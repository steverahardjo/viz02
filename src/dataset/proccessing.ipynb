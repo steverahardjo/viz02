{
 "cells": [
  {
   "cell_type": "code",
   "execution_count": 1,
   "metadata": {},
   "outputs": [],
   "source": [
    "import pandas as pd\n",
    "from vega_datasets import data\n",
    "import pycountry\n"
   ]
  },
  {
   "cell_type": "code",
   "execution_count": 6,
   "metadata": {},
   "outputs": [],
   "source": [
    "\n",
    "\n",
    "def get_country_name_from_code(code):\n",
    "    try:\n",
    "        country = pycountry.countries.get(alpha_3=code)\n",
    "        return country.name\n",
    "    except AttributeError:\n",
    "        return \"Unknown\"\n",
    "df=pd.read_csv(\"arrivals_soe.csv\")"
   ]
  },
  {
   "cell_type": "code",
   "execution_count": 139,
   "metadata": {},
   "outputs": [],
   "source": [
    "import pycountry\n",
    "\n",
    "def get_country_name_from_code2(code):\n",
    "    try:\n",
    "        # Attempt to get country using alpha_2 code\n",
    "        country = pycountry.countries.get(alpha_2=code)\n",
    "        if country:\n",
    "            return country.name\n",
    "        else:\n",
    "            return \"Unknown\"\n",
    "    except LookupError:\n",
    "        # Return \"Unknown\" for invalid codes\n",
    "        return \"Unknown\"\n",
    "    except Exception as e:\n",
    "        # Log or print the exception for debugging\n",
    "        print(f\"Error: {e}\")\n",
    "        return \"Unknown\"\n"
   ]
  },
  {
   "cell_type": "code",
   "execution_count": 140,
   "metadata": {},
   "outputs": [],
   "source": [
    "lst=[]\n",
    "df = df.rename(columns={'country': 'code'})\n",
    "for a in df[\"code\"]:\n",
    "    b=get_country_name_from_code(a)\n",
    "    lst.append(b)\n",
    "df[\"country\"]=lst"
   ]
  },
  {
   "cell_type": "code",
   "execution_count": 142,
   "metadata": {},
   "outputs": [],
   "source": [
    "df2=df2.drop(columns=\"Country\")\n",
    "df2=df2.drop(columns=\"Code\")"
   ]
  },
  {
   "cell_type": "code",
   "execution_count": 143,
   "metadata": {},
   "outputs": [],
   "source": [
    "joined=pd.merge(df, df2, on=\"country\", how=\"inner\")"
   ]
  },
  {
   "cell_type": "code",
   "execution_count": 146,
   "metadata": {},
   "outputs": [],
   "source": [
    "joined.to_csv('final file.csv', index=False)"
   ]
  },
  {
   "cell_type": "code",
   "execution_count": 3,
   "metadata": {},
   "outputs": [],
   "source": [
    "final=pd.read_csv(\"final file.csv\")"
   ]
  },
  {
   "cell_type": "code",
   "execution_count": 7,
   "metadata": {},
   "outputs": [],
   "source": [
    "final['date'] = pd.to_datetime(final['date'])\n",
    "final['date'] = final['date'].dt.strftime('%b %Y')\n"
   ]
  },
  {
   "cell_type": "code",
   "execution_count": 11,
   "metadata": {},
   "outputs": [],
   "source": [
    "# Assuming 'final' is your DataFrame\n",
    "grouped_df = final.groupby([\"date\", \"code\", \"soe\"]).sum().reset_index()\n"
   ]
  },
  {
   "cell_type": "code",
   "execution_count": 20,
   "metadata": {},
   "outputs": [],
   "source": [
    "filtered_df = grouped_df[grouped_df['arrivals'] > 0]\n"
   ]
  },
  {
   "cell_type": "code",
   "execution_count": 21,
   "metadata": {},
   "outputs": [
    {
     "name": "stdout",
     "output_type": "stream",
     "text": [
      "<class 'pandas.core.frame.DataFrame'>\n",
      "Index: 34457 entries, 35 to 87686\n",
      "Data columns (total 9 columns):\n",
      " #   Column           Non-Null Count  Dtype  \n",
      "---  ------           --------------  -----  \n",
      " 0   date             34457 non-null  object \n",
      " 1   code             34457 non-null  object \n",
      " 2   soe              34457 non-null  object \n",
      " 3   arrivals         34457 non-null  int64  \n",
      " 4   arrivals_male    34457 non-null  int64  \n",
      " 5   arrivals_female  34457 non-null  int64  \n",
      " 6   country          34457 non-null  object \n",
      " 7   latitude         34457 non-null  float64\n",
      " 8   longitude        34457 non-null  float64\n",
      "dtypes: float64(2), int64(3), object(4)\n",
      "memory usage: 2.6+ MB\n"
     ]
    }
   ],
   "source": [
    "filtered_df.info()"
   ]
  },
  {
   "cell_type": "code",
   "execution_count": 23,
   "metadata": {},
   "outputs": [],
   "source": [
    "filtered_df.to_csv(\"grouped_arrivals.csv\")"
   ]
  },
  {
   "cell_type": "code",
   "execution_count": 22,
   "metadata": {},
   "outputs": [
    {
     "name": "stdout",
     "output_type": "stream",
     "text": [
      "<class 'pandas.core.frame.DataFrame'>\n",
      "RangeIndex: 87687 entries, 0 to 87686\n",
      "Data columns (total 9 columns):\n",
      " #   Column           Non-Null Count  Dtype  \n",
      "---  ------           --------------  -----  \n",
      " 0   date             87687 non-null  object \n",
      " 1   code             87687 non-null  object \n",
      " 2   soe              87687 non-null  object \n",
      " 3   arrivals         87687 non-null  int64  \n",
      " 4   arrivals_male    87687 non-null  int64  \n",
      " 5   arrivals_female  87687 non-null  int64  \n",
      " 6   country          87687 non-null  object \n",
      " 7   latitude         87687 non-null  float64\n",
      " 8   longitude        87687 non-null  float64\n",
      "dtypes: float64(2), int64(3), object(4)\n",
      "memory usage: 6.0+ MB\n"
     ]
    }
   ],
   "source": [
    "grouped_df.info()"
   ]
  },
  {
   "cell_type": "code",
   "execution_count": 15,
   "metadata": {},
   "outputs": [],
   "source": [
    "a=pd.read_csv(\"grouped_arrivals.csv\")\n"
   ]
  },
  {
   "cell_type": "code",
   "execution_count": 16,
   "metadata": {},
   "outputs": [],
   "source": [
    "import pandas as pd"
   ]
  },
  {
   "cell_type": "code",
   "execution_count": 18,
   "metadata": {},
   "outputs": [],
   "source": [
    "continents = {\n",
    "    \"Asia\": {\n",
    "        \"South Asia\": [\n",
    "            \"Afghanistan\", \"Bangladesh\", \"Bhutan\", \"India\", \"Maldives\", \n",
    "            \"Nepal\", \"Pakistan\", \"Sri Lanka\"\n",
    "        ],\n",
    "        \"Southeast Asia\": [\n",
    "            \"Brunei Darussalam\", \"Cambodia\", \"East Timor\", \"Indonesia\", \n",
    "            \"Laos\", \"Malaysia\", \"Myanmar\", \"Philippines\", \n",
    "            \"Singapore\", \"Thailand\", \"Vietnam\"\n",
    "        ],\n",
    "        \"East Asia\": [\n",
    "            \"China\", \"Japan\", \"Mongolia\", \"North Korea\", \n",
    "            \"South Korea\", \"Taiwan\"\n",
    "        ]\n",
    "    },\n",
    "    \"South America\": [\n",
    "        \"Argentina\", \"Bolivia\", \"Brazil\", \"Chile\", \"Colombia\", \n",
    "        \"Ecuador\", \"Guyana\", \"Paraguay\", \"Peru\", \n",
    "        \"Suriname\", \"Uruguay\", \"Venezuela\"\n",
    "    ],\n",
    "    \"North America\": [\n",
    "        \"Canada\", \"United States\", \"Mexico\"\n",
    "    ],\n",
    "    \"Europe\": {\n",
    "        \"Northern Europe\": [\n",
    "            \"Denmark\", \"Estonia\", \"Finland\", \"Iceland\", \n",
    "            \"Ireland\", \"Latvia\", \"Lithuania\", \"Norway\", \n",
    "            \"Sweden\", \"United Kingdom\"\n",
    "        ],\n",
    "        \"Western Europe\": [\n",
    "            \"Austria\", \"Belgium\", \"France\", \"Germany\", \n",
    "            \"Liechtenstein\", \"Luxembourg\", \"Monaco\", \n",
    "            \"Netherlands\", \"Switzerland\"\n",
    "        ],\n",
    "        \"Southern Europe\": [\n",
    "            \"Albania\", \"Andorra\", \"Bosnia and Herzegovina\", \n",
    "            \"Croatia\", \"Cyprus\", \"Greece\", \"Italy\", \n",
    "            \"Malta\", \"Montenegro\", \"Portugal\", \n",
    "            \"San Marino\", \"Serbia\", \"Slovenia\", \"Spain\", \n",
    "            \"Vatican City\"\n",
    "        ],\n",
    "        \"Eastern Europe\": [\n",
    "            \"Bulgaria\", \"Czechia\", \"Hungary\", \"Poland\", \n",
    "            \"Romania\", \"Slovakia\", \"Ukraine\"\n",
    "        ]\n",
    "    },\n",
    "    \"Oceania\": [\n",
    "        \"Australia\", \"Fiji\", \"Kiribati\", \"Marshall Islands\", \n",
    "        \"Micronesia\", \"Nauru\", \"New Zealand\", \n",
    "        \"Papua New Guinea\", \"Samoa\", \"Solomon Islands\", \n",
    "        \"Tonga\", \"Tuvalu\", \"Vanuatu\"\n",
    "    ],\n",
    "    \"Africa\": {\n",
    "        \"North Africa\": [\n",
    "            \"Algeria\", \"Egypt\", \"Libya\", \"Morocco\", \n",
    "            \"Sudan\", \"Tunisia\"\n",
    "        ],\n",
    "        \"West Africa\": [\n",
    "            \"Benin\", \"Burkina Faso\", \"Cape Verde\", \n",
    "            \"Côte d'Ivoire\", \"Gambia\", \"Ghana\", \n",
    "            \"Guinea\", \"Guinea-Bissau\", \"Liberia\", \n",
    "            \"Mali\", \"Niger\", \"Nigeria\", \"Senegal\", \n",
    "            \"Sierra Leone\", \"Togo\"\n",
    "        ],\n",
    "        \"Central Africa\": [\n",
    "            \"Cameroon\", \"Central African Republic\", \"Chad\", \n",
    "            \"Congo\", \"Congo, The Democratic Republic of the\", \n",
    "            \"Equatorial Guinea\", \"Gabon\", \"São Tomé and Príncipe\"\n",
    "        ],\n",
    "        \"East Africa\": [\n",
    "            \"Burundi\", \"Djibouti\", \"Eritrea\", \"Ethiopia\", \n",
    "            \"Kenya\", \"Madagascar\", \"Malawi\", \"Rwanda\", \n",
    "            \"Somalia\", \"South Sudan\", \"Tanzania\", \"Uganda\", \n",
    "            \"Zambia\", \"Zimbabwe\"\n",
    "        ],\n",
    "        \"Southern Africa\": [\n",
    "            \"Angola\", \"Botswana\", \"Eswatini\", \"Lesotho\", \n",
    "            \"Malawi\", \"Mozambique\", \"Namibia\", \n",
    "            \"South Africa\", \"Zambia\", \"Zimbabwe\"\n",
    "        ]\n",
    "    }\n",
    "}\n",
    "\n"
   ]
  },
  {
   "cell_type": "code",
   "execution_count": 19,
   "metadata": {},
   "outputs": [
    {
     "data": {
      "text/plain": [
       "0        United Arab Emirates\n",
       "1                   Australia\n",
       "2                     Austria\n",
       "3                     Belgium\n",
       "4                     Belgium\n",
       "                 ...         \n",
       "34452                Zimbabwe\n",
       "34453                Zimbabwe\n",
       "34454                Zimbabwe\n",
       "34455                Zimbabwe\n",
       "34456                Zimbabwe\n",
       "Name: country, Length: 34457, dtype: object"
      ]
     },
     "execution_count": 19,
     "metadata": {},
     "output_type": "execute_result"
    }
   ],
   "source": [
    "a[\"country\"]"
   ]
  }
 ],
 "metadata": {
  "kernelspec": {
   "display_name": "Python 3",
   "language": "python",
   "name": "python3"
  },
  "language_info": {
   "codemirror_mode": {
    "name": "ipython",
    "version": 3
   },
   "file_extension": ".py",
   "mimetype": "text/x-python",
   "name": "python",
   "nbconvert_exporter": "python",
   "pygments_lexer": "ipython3",
   "version": "3.8.5"
  }
 },
 "nbformat": 4,
 "nbformat_minor": 2
}
