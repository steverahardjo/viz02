{
 "cells": [
  {
   "cell_type": "code",
   "execution_count": 1,
   "metadata": {},
   "outputs": [],
   "source": [
    "import pandas as pd\n",
    "from vega_datasets import data\n",
    "import pycountry\n"
   ]
  },
  {
   "cell_type": "code",
   "execution_count": 6,
   "metadata": {},
   "outputs": [],
   "source": [
    "\n",
    "\n",
    "def get_country_name_from_code(code):\n",
    "    try:\n",
    "        country = pycountry.countries.get(alpha_3=code)\n",
    "        return country.name\n",
    "    except AttributeError:\n",
    "        return \"Unknown\"\n",
    "df=pd.read_csv(\"arrivals_soe.csv\")"
   ]
  },
  {
   "cell_type": "code",
   "execution_count": 139,
   "metadata": {},
   "outputs": [],
   "source": [
    "import pycountry\n",
    "\n",
    "def get_country_name_from_code2(code):\n",
    "    try:\n",
    "        # Attempt to get country using alpha_2 code\n",
    "        country = pycountry.countries.get(alpha_2=code)\n",
    "        if country:\n",
    "            return country.name\n",
    "        else:\n",
    "            return \"Unknown\"\n",
    "    except LookupError:\n",
    "        # Return \"Unknown\" for invalid codes\n",
    "        return \"Unknown\"\n",
    "    except Exception as e:\n",
    "        # Log or print the exception for debugging\n",
    "        print(f\"Error: {e}\")\n",
    "        return \"Unknown\"\n"
   ]
  },
  {
   "cell_type": "code",
   "execution_count": 140,
   "metadata": {},
   "outputs": [],
   "source": [
    "lst=[]\n",
    "df = df.rename(columns={'country': 'code'})\n",
    "for a in df[\"code\"]:\n",
    "    b=get_country_name_from_code(a)\n",
    "    lst.append(b)\n",
    "df[\"country\"]=lst"
   ]
  },
  {
   "cell_type": "code",
   "execution_count": 142,
   "metadata": {},
   "outputs": [],
   "source": [
    "df2=df2.drop(columns=\"Country\")\n",
    "df2=df2.drop(columns=\"Code\")"
   ]
  },
  {
   "cell_type": "code",
   "execution_count": 143,
   "metadata": {},
   "outputs": [],
   "source": [
    "joined=pd.merge(df, df2, on=\"country\", how=\"inner\")"
   ]
  },
  {
   "cell_type": "code",
   "execution_count": 146,
   "metadata": {},
   "outputs": [],
   "source": [
    "joined.to_csv('final file.csv', index=False)"
   ]
  },
  {
   "cell_type": "code",
   "execution_count": 3,
   "metadata": {},
   "outputs": [],
   "source": [
    "final=pd.read_csv(\"final file.csv\")"
   ]
  },
  {
   "cell_type": "code",
   "execution_count": 7,
   "metadata": {},
   "outputs": [],
   "source": [
    "final['date'] = pd.to_datetime(final['date'])\n",
    "final['date'] = final['date'].dt.strftime('%b %Y')\n"
   ]
  },
  {
   "cell_type": "code",
   "execution_count": 11,
   "metadata": {},
   "outputs": [],
   "source": [
    "# Assuming 'final' is your DataFrame\n",
    "grouped_df = final.groupby([\"date\", \"code\", \"soe\"]).sum().reset_index()\n"
   ]
  },
  {
   "cell_type": "code",
   "execution_count": 20,
   "metadata": {},
   "outputs": [],
   "source": [
    "filtered_df = grouped_df[grouped_df['arrivals'] > 0]\n"
   ]
  },
  {
   "cell_type": "code",
   "execution_count": 21,
   "metadata": {},
   "outputs": [
    {
     "name": "stdout",
     "output_type": "stream",
     "text": [
      "<class 'pandas.core.frame.DataFrame'>\n",
      "Index: 34457 entries, 35 to 87686\n",
      "Data columns (total 9 columns):\n",
      " #   Column           Non-Null Count  Dtype  \n",
      "---  ------           --------------  -----  \n",
      " 0   date             34457 non-null  object \n",
      " 1   code             34457 non-null  object \n",
      " 2   soe              34457 non-null  object \n",
      " 3   arrivals         34457 non-null  int64  \n",
      " 4   arrivals_male    34457 non-null  int64  \n",
      " 5   arrivals_female  34457 non-null  int64  \n",
      " 6   country          34457 non-null  object \n",
      " 7   latitude         34457 non-null  float64\n",
      " 8   longitude        34457 non-null  float64\n",
      "dtypes: float64(2), int64(3), object(4)\n",
      "memory usage: 2.6+ MB\n"
     ]
    }
   ],
   "source": [
    "filtered_df.info()"
   ]
  },
  {
   "cell_type": "code",
   "execution_count": 23,
   "metadata": {},
   "outputs": [],
   "source": [
    "filtered_df.to_csv(\"grouped_arrivals.csv\")"
   ]
  },
  {
   "cell_type": "code",
   "execution_count": 22,
   "metadata": {},
   "outputs": [
    {
     "name": "stdout",
     "output_type": "stream",
     "text": [
      "<class 'pandas.core.frame.DataFrame'>\n",
      "RangeIndex: 87687 entries, 0 to 87686\n",
      "Data columns (total 9 columns):\n",
      " #   Column           Non-Null Count  Dtype  \n",
      "---  ------           --------------  -----  \n",
      " 0   date             87687 non-null  object \n",
      " 1   code             87687 non-null  object \n",
      " 2   soe              87687 non-null  object \n",
      " 3   arrivals         87687 non-null  int64  \n",
      " 4   arrivals_male    87687 non-null  int64  \n",
      " 5   arrivals_female  87687 non-null  int64  \n",
      " 6   country          87687 non-null  object \n",
      " 7   latitude         87687 non-null  float64\n",
      " 8   longitude        87687 non-null  float64\n",
      "dtypes: float64(2), int64(3), object(4)\n",
      "memory usage: 6.0+ MB\n"
     ]
    }
   ],
   "source": [
    "grouped_df.info()"
   ]
  },
  {
   "cell_type": "code",
   "execution_count": 75,
   "metadata": {},
   "outputs": [],
   "source": [
    "a=pd.read_csv(\"grouped_arrivals.csv\")\n"
   ]
  },
  {
   "cell_type": "code",
   "execution_count": 76,
   "metadata": {},
   "outputs": [],
   "source": [
    "import pandas as pd\n",
    "\n",
    "# Load the Big Mac Index dataset\n",
    "url_big_mac = \"https://raw.githubusercontent.com/TheEconomist/big-mac-data/refs/heads/master/source-data/big-mac-source-data-v2.csv\"\n",
    "bigmac = pd.read_csv(url_big_mac)\n",
    "\n",
    "# Load your own dataset\n",
    "url_your_dataset = \"path_to_your_dataset.csv\"\n",
    "\n",
    "# Filter the Big Mac dataset for the year 2023\n",
    "bigmac= bigmac[bigmac['date'].str.contains('2023')]\n",
    "a=pd.read_csv(\"grouped_arrivals.csv\")\n",
    "a= a[a['date'].str.contains('2023')]\n",
    "\n",
    "# Rename the column in the Big Mac dataset\n",
    "bigmac= bigmac.rename(columns={\"iso_a3\": \"code\"})\n",
    "bigmac[\"adjust_price\"]=bigmac[\"local_price\"]/bigmac[\"dollar_ex\"]\n",
    "summed = a.groupby([\"code\"]).sum()[[\"arrivals\"]]\n",
    "\n",
    "# Merge the datasets on the 'code' column\n",
    "md = pd.merge(bigmac, summed, on=\"code\", how=\"left\")\n"
   ]
  },
  {
   "cell_type": "code",
   "execution_count": 78,
   "metadata": {},
   "outputs": [],
   "source": [
    "import pandas as pd\n",
    "gdp=pd.read_csv(\"gdp_capita.csv\")\n"
   ]
  },
  {
   "cell_type": "code",
   "execution_count": 79,
   "metadata": {},
   "outputs": [],
   "source": [
    "# Set row 3 (index 2) as the new header\n",
    "gdp.columns = gdp.iloc[3]\n",
    "\n",
    "# Drop the first 3 rows to clean up the DataFrame (including the row used as the new header)\n",
    "gdp = gdp.drop([0, 1, 2, 3]).reset_index(drop=True)"
   ]
  },
  {
   "cell_type": "code",
   "execution_count": 80,
   "metadata": {},
   "outputs": [],
   "source": [
    "gdp=gdp[[\"Country Code\", 2023.0]]"
   ]
  },
  {
   "cell_type": "code",
   "execution_count": 81,
   "metadata": {},
   "outputs": [],
   "source": [
    "gdp=gdp.rename(columns={\"Country Code\": \"code\", 2023.0: \"gdp_capita\"})"
   ]
  },
  {
   "cell_type": "code",
   "execution_count": 83,
   "metadata": {},
   "outputs": [],
   "source": [
    "\n",
    "md = pd.merge(md, gdp, on=\"code\", how=\"left\")"
   ]
  },
  {
   "cell_type": "code",
   "execution_count": 84,
   "metadata": {},
   "outputs": [],
   "source": [
    "md[\"gdp_capita\"]=round(md[\"gdp_capita\"])"
   ]
  },
  {
   "cell_type": "code",
   "execution_count": 85,
   "metadata": {},
   "outputs": [
    {
     "data": {
      "text/html": [
       "<div>\n",
       "<style scoped>\n",
       "    .dataframe tbody tr th:only-of-type {\n",
       "        vertical-align: middle;\n",
       "    }\n",
       "\n",
       "    .dataframe tbody tr th {\n",
       "        vertical-align: top;\n",
       "    }\n",
       "\n",
       "    .dataframe thead th {\n",
       "        text-align: right;\n",
       "    }\n",
       "</style>\n",
       "<table border=\"1\" class=\"dataframe\">\n",
       "  <thead>\n",
       "    <tr style=\"text-align: right;\">\n",
       "      <th></th>\n",
       "      <th>name</th>\n",
       "      <th>code</th>\n",
       "      <th>currency_code</th>\n",
       "      <th>local_price</th>\n",
       "      <th>dollar_ex</th>\n",
       "      <th>GDP_dollar</th>\n",
       "      <th>GDP_local</th>\n",
       "      <th>date</th>\n",
       "      <th>adjust_price</th>\n",
       "      <th>arrivals</th>\n",
       "      <th>gdp_capita</th>\n",
       "    </tr>\n",
       "  </thead>\n",
       "  <tbody>\n",
       "    <tr>\n",
       "      <th>0</th>\n",
       "      <td>United Arab Emirates</td>\n",
       "      <td>ARE</td>\n",
       "      <td>AED</td>\n",
       "      <td>18.00</td>\n",
       "      <td>3.67300</td>\n",
       "      <td>52625.126</td>\n",
       "      <td>193265.777</td>\n",
       "      <td>2023-01-01</td>\n",
       "      <td>4.900626</td>\n",
       "      <td>8475.0</td>\n",
       "      <td>52977.0</td>\n",
       "    </tr>\n",
       "    <tr>\n",
       "      <th>1</th>\n",
       "      <td>Argentina</td>\n",
       "      <td>ARG</td>\n",
       "      <td>ARS</td>\n",
       "      <td>980.00</td>\n",
       "      <td>184.69875</td>\n",
       "      <td>13640.410</td>\n",
       "      <td>1782994.200</td>\n",
       "      <td>2023-01-01</td>\n",
       "      <td>5.305937</td>\n",
       "      <td>6162.0</td>\n",
       "      <td>13731.0</td>\n",
       "    </tr>\n",
       "    <tr>\n",
       "      <th>2</th>\n",
       "      <td>Australia</td>\n",
       "      <td>AUS</td>\n",
       "      <td>AUD</td>\n",
       "      <td>7.25</td>\n",
       "      <td>1.41854</td>\n",
       "      <td>65574.862</td>\n",
       "      <td>94358.390</td>\n",
       "      <td>2023-01-01</td>\n",
       "      <td>5.110888</td>\n",
       "      <td>409096.0</td>\n",
       "      <td>64712.0</td>\n",
       "    </tr>\n",
       "    <tr>\n",
       "      <th>3</th>\n",
       "      <td>Austria</td>\n",
       "      <td>AUT</td>\n",
       "      <td>EUR</td>\n",
       "      <td>4.48</td>\n",
       "      <td>0.91950</td>\n",
       "      <td>52483.930</td>\n",
       "      <td>49800.808</td>\n",
       "      <td>2023-01-01</td>\n",
       "      <td>4.872213</td>\n",
       "      <td>14358.0</td>\n",
       "      <td>56506.0</td>\n",
       "    </tr>\n",
       "    <tr>\n",
       "      <th>4</th>\n",
       "      <td>Azerbaijan</td>\n",
       "      <td>AZE</td>\n",
       "      <td>AZN</td>\n",
       "      <td>4.90</td>\n",
       "      <td>1.70250</td>\n",
       "      <td>7822.589</td>\n",
       "      <td>13298.401</td>\n",
       "      <td>2023-01-01</td>\n",
       "      <td>2.878120</td>\n",
       "      <td>1712.0</td>\n",
       "      <td>7155.0</td>\n",
       "    </tr>\n",
       "  </tbody>\n",
       "</table>\n",
       "</div>"
      ],
      "text/plain": [
       "                   name code currency_code  local_price  dollar_ex  \\\n",
       "0  United Arab Emirates  ARE           AED        18.00    3.67300   \n",
       "1             Argentina  ARG           ARS       980.00  184.69875   \n",
       "2             Australia  AUS           AUD         7.25    1.41854   \n",
       "3               Austria  AUT           EUR         4.48    0.91950   \n",
       "4            Azerbaijan  AZE           AZN         4.90    1.70250   \n",
       "\n",
       "   GDP_dollar    GDP_local        date  adjust_price  arrivals  gdp_capita  \n",
       "0   52625.126   193265.777  2023-01-01      4.900626    8475.0     52977.0  \n",
       "1   13640.410  1782994.200  2023-01-01      5.305937    6162.0     13731.0  \n",
       "2   65574.862    94358.390  2023-01-01      5.110888  409096.0     64712.0  \n",
       "3   52483.930    49800.808  2023-01-01      4.872213   14358.0     56506.0  \n",
       "4    7822.589    13298.401  2023-01-01      2.878120    1712.0      7155.0  "
      ]
     },
     "execution_count": 85,
     "metadata": {},
     "output_type": "execute_result"
    }
   ],
   "source": [
    "md.head()"
   ]
  },
  {
   "cell_type": "code",
   "execution_count": 2,
   "metadata": {},
   "outputs": [],
   "source": [
    "import pandas as pd"
   ]
  },
  {
   "cell_type": "code",
   "execution_count": 86,
   "metadata": {},
   "outputs": [],
   "source": [
    "dist=pd.read_csv(\"https://raw.githubusercontent.com/rahulbot/distances-between-countries/refs/heads/master/distances.csv\")"
   ]
  },
  {
   "cell_type": "code",
   "execution_count": 87,
   "metadata": {},
   "outputs": [],
   "source": [
    "dist = dist.rename(columns={dist.columns[0]: 'code'})\n",
    "dist=dist[[\"code\", \"MYS\"]]\n",
    "dist=dist.rename(columns={\"MYS\": \"distance\"})"
   ]
  },
  {
   "cell_type": "code",
   "execution_count": 88,
   "metadata": {},
   "outputs": [
    {
     "data": {
      "text/html": [
       "<div>\n",
       "<style scoped>\n",
       "    .dataframe tbody tr th:only-of-type {\n",
       "        vertical-align: middle;\n",
       "    }\n",
       "\n",
       "    .dataframe tbody tr th {\n",
       "        vertical-align: top;\n",
       "    }\n",
       "\n",
       "    .dataframe thead th {\n",
       "        text-align: right;\n",
       "    }\n",
       "</style>\n",
       "<table border=\"1\" class=\"dataframe\">\n",
       "  <thead>\n",
       "    <tr style=\"text-align: right;\">\n",
       "      <th></th>\n",
       "      <th>code</th>\n",
       "      <th>distance</th>\n",
       "    </tr>\n",
       "  </thead>\n",
       "  <tbody>\n",
       "    <tr>\n",
       "      <th>0</th>\n",
       "      <td>ABW</td>\n",
       "      <td>17772.198137</td>\n",
       "    </tr>\n",
       "    <tr>\n",
       "      <th>1</th>\n",
       "      <td>AFG</td>\n",
       "      <td>4627.929927</td>\n",
       "    </tr>\n",
       "    <tr>\n",
       "      <th>2</th>\n",
       "      <td>AGO</td>\n",
       "      <td>10012.910963</td>\n",
       "    </tr>\n",
       "    <tr>\n",
       "      <th>3</th>\n",
       "      <td>AIA</td>\n",
       "      <td>16872.110747</td>\n",
       "    </tr>\n",
       "    <tr>\n",
       "      <th>4</th>\n",
       "      <td>ALB</td>\n",
       "      <td>8930.954065</td>\n",
       "    </tr>\n",
       "    <tr>\n",
       "      <th>...</th>\n",
       "      <td>...</td>\n",
       "      <td>...</td>\n",
       "    </tr>\n",
       "    <tr>\n",
       "      <th>230</th>\n",
       "      <td>WSM</td>\n",
       "      <td>9748.630964</td>\n",
       "    </tr>\n",
       "    <tr>\n",
       "      <th>231</th>\n",
       "      <td>YEM</td>\n",
       "      <td>6411.044984</td>\n",
       "    </tr>\n",
       "    <tr>\n",
       "      <th>232</th>\n",
       "      <td>ZAF</td>\n",
       "      <td>9822.689546</td>\n",
       "    </tr>\n",
       "    <tr>\n",
       "      <th>233</th>\n",
       "      <td>ZMB</td>\n",
       "      <td>8491.259645</td>\n",
       "    </tr>\n",
       "    <tr>\n",
       "      <th>234</th>\n",
       "      <td>ZWE</td>\n",
       "      <td>8253.128523</td>\n",
       "    </tr>\n",
       "  </tbody>\n",
       "</table>\n",
       "<p>235 rows × 2 columns</p>\n",
       "</div>"
      ],
      "text/plain": [
       "    code      distance\n",
       "0    ABW  17772.198137\n",
       "1    AFG   4627.929927\n",
       "2    AGO  10012.910963\n",
       "3    AIA  16872.110747\n",
       "4    ALB   8930.954065\n",
       "..   ...           ...\n",
       "230  WSM   9748.630964\n",
       "231  YEM   6411.044984\n",
       "232  ZAF   9822.689546\n",
       "233  ZMB   8491.259645\n",
       "234  ZWE   8253.128523\n",
       "\n",
       "[235 rows x 2 columns]"
      ]
     },
     "execution_count": 88,
     "metadata": {},
     "output_type": "execute_result"
    }
   ],
   "source": [
    "dist"
   ]
  },
  {
   "cell_type": "code",
   "execution_count": 89,
   "metadata": {},
   "outputs": [],
   "source": [
    "md = pd.merge(md, dist, on=\"code\", how=\"left\")"
   ]
  },
  {
   "cell_type": "code",
   "execution_count": 90,
   "metadata": {},
   "outputs": [],
   "source": [
    "md[\"distance\"]=round(md[\"distance\"])"
   ]
  },
  {
   "cell_type": "code",
   "execution_count": 91,
   "metadata": {},
   "outputs": [],
   "source": [
    "md.to_csv(\"bubbleChart_pictograph.csv\")"
   ]
  },
  {
   "cell_type": "code",
   "execution_count": 26,
   "metadata": {},
   "outputs": [],
   "source": [
    "subreg=pd.read_csv(\"subregion.csv\")\n",
    "md=pd.read_csv(\"grouped_arrivals.csv\")"
   ]
  },
  {
   "cell_type": "code",
   "execution_count": 27,
   "metadata": {},
   "outputs": [],
   "source": [
    "subreg=subreg[[\"alpha-3\", \"sub-region\", \"region\"]]"
   ]
  },
  {
   "cell_type": "code",
   "execution_count": 28,
   "metadata": {},
   "outputs": [],
   "source": [
    "\n",
    "subreg = subreg.rename(columns={\"alpha-3\": \"code\"})"
   ]
  },
  {
   "cell_type": "code",
   "execution_count": 29,
   "metadata": {},
   "outputs": [],
   "source": [
    "md = pd.merge(md, subreg, on=\"code\", how=\"left\")"
   ]
  },
  {
   "cell_type": "code",
   "execution_count": 30,
   "metadata": {},
   "outputs": [],
   "source": [
    "md = md.drop(columns=[\"Unnamed: 0\"])\n"
   ]
  },
  {
   "cell_type": "code",
   "execution_count": 31,
   "metadata": {},
   "outputs": [],
   "source": [
    "import pandas as pd\n",
    "md = md.groupby([\"date\", \"region\"])[\"arrivals\"].mean().reset_index()"
   ]
  },
  {
   "cell_type": "code",
   "execution_count": 32,
   "metadata": {},
   "outputs": [],
   "source": [
    "md[\"arrivals\"]=round(md[\"arrivals\"])\n",
    "md.to_csv(\"streamgraph.csv\")"
   ]
  },
  {
   "cell_type": "code",
   "execution_count": 25,
   "metadata": {},
   "outputs": [
    {
     "data": {
      "text/html": [
       "<div>\n",
       "<style scoped>\n",
       "    .dataframe tbody tr th:only-of-type {\n",
       "        vertical-align: middle;\n",
       "    }\n",
       "\n",
       "    .dataframe tbody tr th {\n",
       "        vertical-align: top;\n",
       "    }\n",
       "\n",
       "    .dataframe thead th {\n",
       "        text-align: right;\n",
       "    }\n",
       "</style>\n",
       "<table border=\"1\" class=\"dataframe\">\n",
       "  <thead>\n",
       "    <tr style=\"text-align: right;\">\n",
       "      <th></th>\n",
       "      <th>Unnamed: 0</th>\n",
       "      <th>date</th>\n",
       "      <th>code</th>\n",
       "      <th>soe</th>\n",
       "      <th>arrivals</th>\n",
       "      <th>arrivals_male</th>\n",
       "      <th>arrivals_female</th>\n",
       "      <th>country</th>\n",
       "      <th>latitude</th>\n",
       "      <th>longitude</th>\n",
       "      <th>sub-region</th>\n",
       "      <th>region</th>\n",
       "    </tr>\n",
       "  </thead>\n",
       "  <tbody>\n",
       "    <tr>\n",
       "      <th>0</th>\n",
       "      <td>35</td>\n",
       "      <td>Apr 2020</td>\n",
       "      <td>ARE</td>\n",
       "      <td>Selangor</td>\n",
       "      <td>2.0</td>\n",
       "      <td>2.0</td>\n",
       "      <td>0.0</td>\n",
       "      <td>United Arab Emirates</td>\n",
       "      <td>23.424076</td>\n",
       "      <td>53.847818</td>\n",
       "      <td>Western Asia</td>\n",
       "      <td>Asia</td>\n",
       "    </tr>\n",
       "    <tr>\n",
       "      <th>1</th>\n",
       "      <td>73</td>\n",
       "      <td>Apr 2020</td>\n",
       "      <td>AUS</td>\n",
       "      <td>Selangor</td>\n",
       "      <td>9.0</td>\n",
       "      <td>8.0</td>\n",
       "      <td>1.0</td>\n",
       "      <td>Australia</td>\n",
       "      <td>-25.274398</td>\n",
       "      <td>133.775136</td>\n",
       "      <td>Australia and New Zealand</td>\n",
       "      <td>Oceania</td>\n",
       "    </tr>\n",
       "    <tr>\n",
       "      <th>2</th>\n",
       "      <td>77</td>\n",
       "      <td>Apr 2020</td>\n",
       "      <td>AUT</td>\n",
       "      <td>Kedah</td>\n",
       "      <td>1.0</td>\n",
       "      <td>1.0</td>\n",
       "      <td>0.0</td>\n",
       "      <td>Austria</td>\n",
       "      <td>47.516231</td>\n",
       "      <td>14.550072</td>\n",
       "      <td>Western Europe</td>\n",
       "      <td>Europe</td>\n",
       "    </tr>\n",
       "    <tr>\n",
       "      <th>3</th>\n",
       "      <td>103</td>\n",
       "      <td>Apr 2020</td>\n",
       "      <td>BEL</td>\n",
       "      <td>Johor</td>\n",
       "      <td>1.0</td>\n",
       "      <td>0.0</td>\n",
       "      <td>1.0</td>\n",
       "      <td>Belgium</td>\n",
       "      <td>50.503887</td>\n",
       "      <td>4.469936</td>\n",
       "      <td>Western Europe</td>\n",
       "      <td>Europe</td>\n",
       "    </tr>\n",
       "    <tr>\n",
       "      <th>4</th>\n",
       "      <td>114</td>\n",
       "      <td>Apr 2020</td>\n",
       "      <td>BEL</td>\n",
       "      <td>Selangor</td>\n",
       "      <td>6.0</td>\n",
       "      <td>6.0</td>\n",
       "      <td>0.0</td>\n",
       "      <td>Belgium</td>\n",
       "      <td>50.503887</td>\n",
       "      <td>4.469936</td>\n",
       "      <td>Western Europe</td>\n",
       "      <td>Europe</td>\n",
       "    </tr>\n",
       "    <tr>\n",
       "      <th>...</th>\n",
       "      <td>...</td>\n",
       "      <td>...</td>\n",
       "      <td>...</td>\n",
       "      <td>...</td>\n",
       "      <td>...</td>\n",
       "      <td>...</td>\n",
       "      <td>...</td>\n",
       "      <td>...</td>\n",
       "      <td>...</td>\n",
       "      <td>...</td>\n",
       "      <td>...</td>\n",
       "      <td>...</td>\n",
       "    </tr>\n",
       "    <tr>\n",
       "      <th>34453</th>\n",
       "      <td>87681</td>\n",
       "      <td>Sep 2023</td>\n",
       "      <td>ZWE</td>\n",
       "      <td>Perak</td>\n",
       "      <td>1.0</td>\n",
       "      <td>0.0</td>\n",
       "      <td>1.0</td>\n",
       "      <td>Zimbabwe</td>\n",
       "      <td>-19.015438</td>\n",
       "      <td>29.154857</td>\n",
       "      <td>Sub-Saharan Africa</td>\n",
       "      <td>Africa</td>\n",
       "    </tr>\n",
       "    <tr>\n",
       "      <th>34454</th>\n",
       "      <td>87684</td>\n",
       "      <td>Sep 2023</td>\n",
       "      <td>ZWE</td>\n",
       "      <td>Sabah</td>\n",
       "      <td>1.0</td>\n",
       "      <td>1.0</td>\n",
       "      <td>0.0</td>\n",
       "      <td>Zimbabwe</td>\n",
       "      <td>-19.015438</td>\n",
       "      <td>29.154857</td>\n",
       "      <td>Sub-Saharan Africa</td>\n",
       "      <td>Africa</td>\n",
       "    </tr>\n",
       "    <tr>\n",
       "      <th>34455</th>\n",
       "      <td>87685</td>\n",
       "      <td>Sep 2023</td>\n",
       "      <td>ZWE</td>\n",
       "      <td>Sarawak</td>\n",
       "      <td>2.0</td>\n",
       "      <td>2.0</td>\n",
       "      <td>0.0</td>\n",
       "      <td>Zimbabwe</td>\n",
       "      <td>-19.015438</td>\n",
       "      <td>29.154857</td>\n",
       "      <td>Sub-Saharan Africa</td>\n",
       "      <td>Africa</td>\n",
       "    </tr>\n",
       "    <tr>\n",
       "      <th>34456</th>\n",
       "      <td>87686</td>\n",
       "      <td>Sep 2023</td>\n",
       "      <td>ZWE</td>\n",
       "      <td>Selangor</td>\n",
       "      <td>181.0</td>\n",
       "      <td>95.0</td>\n",
       "      <td>86.0</td>\n",
       "      <td>Zimbabwe</td>\n",
       "      <td>-19.015438</td>\n",
       "      <td>29.154857</td>\n",
       "      <td>Sub-Saharan Africa</td>\n",
       "      <td>Africa</td>\n",
       "    </tr>\n",
       "    <tr>\n",
       "      <th>34457</th>\n",
       "      <td>87687</td>\n",
       "      <td>pivot</td>\n",
       "      <td>MYS</td>\n",
       "      <td>NaN</td>\n",
       "      <td>NaN</td>\n",
       "      <td>NaN</td>\n",
       "      <td>NaN</td>\n",
       "      <td>Malaysia</td>\n",
       "      <td>4.210500</td>\n",
       "      <td>101.975800</td>\n",
       "      <td>South-eastern Asia</td>\n",
       "      <td>Asia</td>\n",
       "    </tr>\n",
       "  </tbody>\n",
       "</table>\n",
       "<p>34458 rows × 12 columns</p>\n",
       "</div>"
      ],
      "text/plain": [
       "       Unnamed: 0      date code       soe  arrivals  arrivals_male  \\\n",
       "0              35  Apr 2020  ARE  Selangor       2.0            2.0   \n",
       "1              73  Apr 2020  AUS  Selangor       9.0            8.0   \n",
       "2              77  Apr 2020  AUT     Kedah       1.0            1.0   \n",
       "3             103  Apr 2020  BEL     Johor       1.0            0.0   \n",
       "4             114  Apr 2020  BEL  Selangor       6.0            6.0   \n",
       "...           ...       ...  ...       ...       ...            ...   \n",
       "34453       87681  Sep 2023  ZWE     Perak       1.0            0.0   \n",
       "34454       87684  Sep 2023  ZWE     Sabah       1.0            1.0   \n",
       "34455       87685  Sep 2023  ZWE   Sarawak       2.0            2.0   \n",
       "34456       87686  Sep 2023  ZWE  Selangor     181.0           95.0   \n",
       "34457       87687     pivot  MYS       NaN       NaN            NaN   \n",
       "\n",
       "       arrivals_female               country   latitude   longitude  \\\n",
       "0                  0.0  United Arab Emirates  23.424076   53.847818   \n",
       "1                  1.0             Australia -25.274398  133.775136   \n",
       "2                  0.0               Austria  47.516231   14.550072   \n",
       "3                  1.0               Belgium  50.503887    4.469936   \n",
       "4                  0.0               Belgium  50.503887    4.469936   \n",
       "...                ...                   ...        ...         ...   \n",
       "34453              1.0              Zimbabwe -19.015438   29.154857   \n",
       "34454              0.0              Zimbabwe -19.015438   29.154857   \n",
       "34455              0.0              Zimbabwe -19.015438   29.154857   \n",
       "34456             86.0              Zimbabwe -19.015438   29.154857   \n",
       "34457              NaN              Malaysia   4.210500  101.975800   \n",
       "\n",
       "                      sub-region   region  \n",
       "0                   Western Asia     Asia  \n",
       "1      Australia and New Zealand  Oceania  \n",
       "2                 Western Europe   Europe  \n",
       "3                 Western Europe   Europe  \n",
       "4                 Western Europe   Europe  \n",
       "...                          ...      ...  \n",
       "34453         Sub-Saharan Africa   Africa  \n",
       "34454         Sub-Saharan Africa   Africa  \n",
       "34455         Sub-Saharan Africa   Africa  \n",
       "34456         Sub-Saharan Africa   Africa  \n",
       "34457         South-eastern Asia     Asia  \n",
       "\n",
       "[34458 rows x 12 columns]"
      ]
     },
     "execution_count": 25,
     "metadata": {},
     "output_type": "execute_result"
    }
   ],
   "source": [
    "md"
   ]
  },
  {
   "cell_type": "code",
   "execution_count": 10,
   "metadata": {},
   "outputs": [],
   "source": [
    "import pandas as pd\n",
    "md=pd.read_csv(\"streamgraph.csv\")\n",
    "reg=pd.read_csv(\"subregion.csv\")"
   ]
  },
  {
   "cell_type": "code",
   "execution_count": 9,
   "metadata": {},
   "outputs": [
    {
     "data": {
      "text/html": [
       "<div>\n",
       "<style scoped>\n",
       "    .dataframe tbody tr th:only-of-type {\n",
       "        vertical-align: middle;\n",
       "    }\n",
       "\n",
       "    .dataframe tbody tr th {\n",
       "        vertical-align: top;\n",
       "    }\n",
       "\n",
       "    .dataframe thead th {\n",
       "        text-align: right;\n",
       "    }\n",
       "</style>\n",
       "<table border=\"1\" class=\"dataframe\">\n",
       "  <thead>\n",
       "    <tr style=\"text-align: right;\">\n",
       "      <th></th>\n",
       "      <th>Unnamed: 0</th>\n",
       "      <th>date</th>\n",
       "      <th>sub-region</th>\n",
       "      <th>arrivals</th>\n",
       "    </tr>\n",
       "  </thead>\n",
       "  <tbody>\n",
       "    <tr>\n",
       "      <th>0</th>\n",
       "      <td>0</td>\n",
       "      <td>Apr 2020</td>\n",
       "      <td>Australia and New Zealand</td>\n",
       "      <td>6.0</td>\n",
       "    </tr>\n",
       "    <tr>\n",
       "      <th>1</th>\n",
       "      <td>1</td>\n",
       "      <td>Apr 2020</td>\n",
       "      <td>Eastern Asia</td>\n",
       "      <td>10.0</td>\n",
       "    </tr>\n",
       "    <tr>\n",
       "      <th>2</th>\n",
       "      <td>2</td>\n",
       "      <td>Apr 2020</td>\n",
       "      <td>Eastern Europe</td>\n",
       "      <td>2.0</td>\n",
       "    </tr>\n",
       "    <tr>\n",
       "      <th>3</th>\n",
       "      <td>3</td>\n",
       "      <td>Apr 2020</td>\n",
       "      <td>Northern Africa</td>\n",
       "      <td>3.0</td>\n",
       "    </tr>\n",
       "    <tr>\n",
       "      <th>4</th>\n",
       "      <td>4</td>\n",
       "      <td>Apr 2020</td>\n",
       "      <td>Northern America</td>\n",
       "      <td>6.0</td>\n",
       "    </tr>\n",
       "    <tr>\n",
       "      <th>...</th>\n",
       "      <td>...</td>\n",
       "      <td>...</td>\n",
       "      <td>...</td>\n",
       "      <td>...</td>\n",
       "    </tr>\n",
       "    <tr>\n",
       "      <th>866</th>\n",
       "      <td>866</td>\n",
       "      <td>Sep 2023</td>\n",
       "      <td>Southern Asia</td>\n",
       "      <td>2825.0</td>\n",
       "    </tr>\n",
       "    <tr>\n",
       "      <th>867</th>\n",
       "      <td>867</td>\n",
       "      <td>Sep 2023</td>\n",
       "      <td>Southern Europe</td>\n",
       "      <td>159.0</td>\n",
       "    </tr>\n",
       "    <tr>\n",
       "      <th>868</th>\n",
       "      <td>868</td>\n",
       "      <td>Sep 2023</td>\n",
       "      <td>Sub-Saharan Africa</td>\n",
       "      <td>59.0</td>\n",
       "    </tr>\n",
       "    <tr>\n",
       "      <th>869</th>\n",
       "      <td>869</td>\n",
       "      <td>Sep 2023</td>\n",
       "      <td>Western Asia</td>\n",
       "      <td>163.0</td>\n",
       "    </tr>\n",
       "    <tr>\n",
       "      <th>870</th>\n",
       "      <td>870</td>\n",
       "      <td>Sep 2023</td>\n",
       "      <td>Western Europe</td>\n",
       "      <td>468.0</td>\n",
       "    </tr>\n",
       "  </tbody>\n",
       "</table>\n",
       "<p>871 rows × 4 columns</p>\n",
       "</div>"
      ],
      "text/plain": [
       "     Unnamed: 0      date                 sub-region  arrivals\n",
       "0             0  Apr 2020  Australia and New Zealand       6.0\n",
       "1             1  Apr 2020               Eastern Asia      10.0\n",
       "2             2  Apr 2020             Eastern Europe       2.0\n",
       "3             3  Apr 2020            Northern Africa       3.0\n",
       "4             4  Apr 2020           Northern America       6.0\n",
       "..          ...       ...                        ...       ...\n",
       "866         866  Sep 2023              Southern Asia    2825.0\n",
       "867         867  Sep 2023            Southern Europe     159.0\n",
       "868         868  Sep 2023         Sub-Saharan Africa      59.0\n",
       "869         869  Sep 2023               Western Asia     163.0\n",
       "870         870  Sep 2023             Western Europe     468.0\n",
       "\n",
       "[871 rows x 4 columns]"
      ]
     },
     "execution_count": 9,
     "metadata": {},
     "output_type": "execute_result"
    }
   ],
   "source": [
    "pd.merge(\"\")"
   ]
  }
 ],
 "metadata": {
  "kernelspec": {
   "display_name": "Python 3",
   "language": "python",
   "name": "python3"
  },
  "language_info": {
   "codemirror_mode": {
    "name": "ipython",
    "version": 3
   },
   "file_extension": ".py",
   "mimetype": "text/x-python",
   "name": "python",
   "nbconvert_exporter": "python",
   "pygments_lexer": "ipython3",
   "version": "3.8.5"
  }
 },
 "nbformat": 4,
 "nbformat_minor": 2
}
