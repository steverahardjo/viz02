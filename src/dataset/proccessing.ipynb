{
 "cells": [
  {
   "cell_type": "code",
   "execution_count": 1,
   "metadata": {},
   "outputs": [],
   "source": [
    "import pandas as pd"
   ]
  },
  {
   "cell_type": "code",
   "execution_count": 6,
   "metadata": {},
   "outputs": [],
   "source": [
    "import pycountry\n",
    "\n",
    "def get_country_name_from_code(code):\n",
    "    try:\n",
    "        country = pycountry.countries.get(alpha_3=code)\n",
    "        return country.name\n",
    "    except AttributeError:\n",
    "        return \"Unknown\"\n",
    "df=pd.read_csv(\"arrivals_soe.csv\")"
   ]
  },
  {
   "cell_type": "code",
   "execution_count": 139,
   "metadata": {},
   "outputs": [],
   "source": [
    "import pycountry\n",
    "\n",
    "def get_country_name_from_code2(code):\n",
    "    try:\n",
    "        # Attempt to get country using alpha_2 code\n",
    "        country = pycountry.countries.get(alpha_2=code)\n",
    "        if country:\n",
    "            return country.name\n",
    "        else:\n",
    "            return \"Unknown\"\n",
    "    except LookupError:\n",
    "        # Return \"Unknown\" for invalid codes\n",
    "        return \"Unknown\"\n",
    "    except Exception as e:\n",
    "        # Log or print the exception for debugging\n",
    "        print(f\"Error: {e}\")\n",
    "        return \"Unknown\"\n"
   ]
  },
  {
   "cell_type": "code",
   "execution_count": 140,
   "metadata": {},
   "outputs": [],
   "source": [
    "lst=[]\n",
    "df = df.rename(columns={'country': 'code'})\n",
    "for a in df[\"code\"]:\n",
    "    b=get_country_name_from_code(a)\n",
    "    lst.append(b)\n",
    "df[\"country\"]=lst"
   ]
  },
  {
   "cell_type": "code",
   "execution_count": 142,
   "metadata": {},
   "outputs": [],
   "source": [
    "df2=df2.drop(columns=\"Country\")\n",
    "df2=df2.drop(columns=\"Code\")"
   ]
  },
  {
   "cell_type": "code",
   "execution_count": 143,
   "metadata": {},
   "outputs": [],
   "source": [
    "joined=pd.merge(df, df2, on=\"country\", how=\"inner\")"
   ]
  },
  {
   "cell_type": "code",
   "execution_count": 146,
   "metadata": {},
   "outputs": [],
   "source": [
    "joined.to_csv('final file.csv', index=False)"
   ]
  },
  {
   "cell_type": "code",
   "execution_count": 3,
   "metadata": {},
   "outputs": [],
   "source": [
    "final=pd.read_csv(\"final file.csv\")"
   ]
  },
  {
   "cell_type": "code",
   "execution_count": 7,
   "metadata": {},
   "outputs": [],
   "source": [
    "final['date'] = pd.to_datetime(final['date'])\n",
    "final['date'] = final['date'].dt.strftime('%b %Y')\n"
   ]
  },
  {
   "cell_type": "code",
   "execution_count": 11,
   "metadata": {},
   "outputs": [],
   "source": [
    "# Assuming 'final' is your DataFrame\n",
    "grouped_df = final.groupby([\"date\", \"code\", \"soe\"]).sum().reset_index()\n"
   ]
  },
  {
   "cell_type": "code",
   "execution_count": 20,
   "metadata": {},
   "outputs": [],
   "source": [
    "filtered_df = grouped_df[grouped_df['arrivals'] > 0]\n"
   ]
  },
  {
   "cell_type": "code",
   "execution_count": 21,
   "metadata": {},
   "outputs": [
    {
     "name": "stdout",
     "output_type": "stream",
     "text": [
      "<class 'pandas.core.frame.DataFrame'>\n",
      "Index: 34457 entries, 35 to 87686\n",
      "Data columns (total 9 columns):\n",
      " #   Column           Non-Null Count  Dtype  \n",
      "---  ------           --------------  -----  \n",
      " 0   date             34457 non-null  object \n",
      " 1   code             34457 non-null  object \n",
      " 2   soe              34457 non-null  object \n",
      " 3   arrivals         34457 non-null  int64  \n",
      " 4   arrivals_male    34457 non-null  int64  \n",
      " 5   arrivals_female  34457 non-null  int64  \n",
      " 6   country          34457 non-null  object \n",
      " 7   latitude         34457 non-null  float64\n",
      " 8   longitude        34457 non-null  float64\n",
      "dtypes: float64(2), int64(3), object(4)\n",
      "memory usage: 2.6+ MB\n"
     ]
    }
   ],
   "source": [
    "filtered_df.info()"
   ]
  },
  {
   "cell_type": "code",
   "execution_count": 3,
   "metadata": {},
   "outputs": [
    {
     "ename": "NameError",
     "evalue": "name 'filtered_df' is not defined",
     "output_type": "error",
     "traceback": [
      "\u001b[1;31m---------------------------------------------------------------------------\u001b[0m",
      "\u001b[1;31mNameError\u001b[0m                                 Traceback (most recent call last)",
      "\u001b[1;32m<ipython-input-3-c3caff9ca47b>\u001b[0m in \u001b[0;36m<module>\u001b[1;34m\u001b[0m\n\u001b[1;32m----> 1\u001b[1;33m \u001b[0mfiltered_df\u001b[0m\u001b[1;33m.\u001b[0m\u001b[0mto_csv\u001b[0m\u001b[1;33m(\u001b[0m\u001b[1;34m\"grouped_arrivals.csv\"\u001b[0m\u001b[1;33m)\u001b[0m\u001b[1;33m\u001b[0m\u001b[1;33m\u001b[0m\u001b[0m\n\u001b[0m",
      "\u001b[1;31mNameError\u001b[0m: name 'filtered_df' is not defined"
     ]
    }
   ],
   "source": [
    "filtered_df.to_csv(\"grouped_arrivals.csv\")"
   ]
  },
  {
   "cell_type": "code",
   "execution_count": 22,
   "metadata": {},
   "outputs": [
    {
     "name": "stdout",
     "output_type": "stream",
     "text": [
      "<class 'pandas.core.frame.DataFrame'>\n",
      "RangeIndex: 87687 entries, 0 to 87686\n",
      "Data columns (total 9 columns):\n",
      " #   Column           Non-Null Count  Dtype  \n",
      "---  ------           --------------  -----  \n",
      " 0   date             87687 non-null  object \n",
      " 1   code             87687 non-null  object \n",
      " 2   soe              87687 non-null  object \n",
      " 3   arrivals         87687 non-null  int64  \n",
      " 4   arrivals_male    87687 non-null  int64  \n",
      " 5   arrivals_female  87687 non-null  int64  \n",
      " 6   country          87687 non-null  object \n",
      " 7   latitude         87687 non-null  float64\n",
      " 8   longitude        87687 non-null  float64\n",
      "dtypes: float64(2), int64(3), object(4)\n",
      "memory usage: 6.0+ MB\n"
     ]
    }
   ],
   "source": [
    "grouped_df.info()"
   ]
  },
  {
   "cell_type": "code",
   "execution_count": 4,
   "metadata": {},
   "outputs": [],
   "source": [
    "a=pd.read_csv(\"grouped_arrivals.csv\")\n"
   ]
  },
  {
   "cell_type": "code",
   "execution_count": 25,
   "metadata": {},
   "outputs": [],
   "source": [
    "import pandas as pd\n",
    "\n",
    "# Load the Big Mac Index dataset\n",
    "url_big_mac = \"https://raw.githubusercontent.com/TheEconomist/big-mac-data/refs/heads/master/source-data/big-mac-source-data-v2.csv\"\n",
    "bigmac = pd.read_csv(url_big_mac)\n",
    "\n",
    "# Load your own dataset\n",
    "url_your_dataset = \"path_to_your_dataset.csv\"\n",
    "\n",
    "# Filter the Big Mac dataset for the year 2023\n",
    "bigmac= bigmac[bigmac['date'].str.contains('2023')]\n",
    "a=pd.read_csv(\"grouped_arrivals.csv\")\n",
    "a= a[a['date'].str.contains('2023')]\n",
    "\n",
    "# Rename the column in the Big Mac dataset\n",
    "bigmac= bigmac.rename(columns={\"iso_a3\": \"code\"})\n",
    "bigmac[\"adjust_price\"]=bigmac[\"local_price\"]/bigmac[\"dollar_ex\"]\n"
   ]
  },
  {
   "cell_type": "code",
   "execution_count": 26,
   "metadata": {},
   "outputs": [],
   "source": [
    "a=pd.read_csv(\"grouped_arrivals.csv\")\n",
    "a= a[a['date'].str.contains('2023')]\n",
    "summed = a.groupby([\"code\"]).sum()[[\"arrivals\"]]\n",
    "summed = summed.reset_index()\n",
    "summed.columns = ['code', 'arrivals']"
   ]
  },
  {
   "cell_type": "code",
   "execution_count": 33,
   "metadata": {},
   "outputs": [],
   "source": [
    "md = pd.merge(summed, bigmac, on=\"code\")\n",
    "md = md.iloc[1::2]\n",
    "md.to_csv(\"bubbleChart_pictograph.csv\")"
   ]
  },
  {
   "cell_type": "code",
   "execution_count": 34,
   "metadata": {},
   "outputs": [
    {
     "data": {
      "text/html": [
       "<div>\n",
       "<style scoped>\n",
       "    .dataframe tbody tr th:only-of-type {\n",
       "        vertical-align: middle;\n",
       "    }\n",
       "\n",
       "    .dataframe tbody tr th {\n",
       "        vertical-align: top;\n",
       "    }\n",
       "\n",
       "    .dataframe thead th {\n",
       "        text-align: right;\n",
       "    }\n",
       "</style>\n",
       "<table border=\"1\" class=\"dataframe\">\n",
       "  <thead>\n",
       "    <tr style=\"text-align: right;\">\n",
       "      <th></th>\n",
       "      <th>code</th>\n",
       "      <th>arrivals</th>\n",
       "      <th>name</th>\n",
       "      <th>currency_code</th>\n",
       "      <th>local_price</th>\n",
       "      <th>dollar_ex</th>\n",
       "      <th>GDP_dollar</th>\n",
       "      <th>GDP_local</th>\n",
       "      <th>date</th>\n",
       "      <th>adjust_price</th>\n",
       "    </tr>\n",
       "  </thead>\n",
       "  <tbody>\n",
       "    <tr>\n",
       "      <th>1</th>\n",
       "      <td>ARE</td>\n",
       "      <td>8475.0</td>\n",
       "      <td>United Arab Emirates</td>\n",
       "      <td>AED</td>\n",
       "      <td>18.00</td>\n",
       "      <td>3.67305</td>\n",
       "      <td>52625.126</td>\n",
       "      <td>193265.777</td>\n",
       "      <td>2023-07-01</td>\n",
       "      <td>4.900559</td>\n",
       "    </tr>\n",
       "    <tr>\n",
       "      <th>3</th>\n",
       "      <td>ARG</td>\n",
       "      <td>6162.0</td>\n",
       "      <td>Argentina</td>\n",
       "      <td>ARS</td>\n",
       "      <td>1650.00</td>\n",
       "      <td>275.27500</td>\n",
       "      <td>13640.410</td>\n",
       "      <td>1782994.200</td>\n",
       "      <td>2023-07-01</td>\n",
       "      <td>5.994006</td>\n",
       "    </tr>\n",
       "    <tr>\n",
       "      <th>5</th>\n",
       "      <td>AUS</td>\n",
       "      <td>409096.0</td>\n",
       "      <td>Australia</td>\n",
       "      <td>AUD</td>\n",
       "      <td>7.45</td>\n",
       "      <td>1.48401</td>\n",
       "      <td>65574.862</td>\n",
       "      <td>94358.390</td>\n",
       "      <td>2023-07-01</td>\n",
       "      <td>5.020183</td>\n",
       "    </tr>\n",
       "    <tr>\n",
       "      <th>7</th>\n",
       "      <td>AUT</td>\n",
       "      <td>14358.0</td>\n",
       "      <td>Austria</td>\n",
       "      <td>EUR</td>\n",
       "      <td>4.81</td>\n",
       "      <td>0.90699</td>\n",
       "      <td>52483.930</td>\n",
       "      <td>49800.808</td>\n",
       "      <td>2023-07-01</td>\n",
       "      <td>5.303256</td>\n",
       "    </tr>\n",
       "    <tr>\n",
       "      <th>9</th>\n",
       "      <td>AZE</td>\n",
       "      <td>1712.0</td>\n",
       "      <td>Azerbaijan</td>\n",
       "      <td>AZN</td>\n",
       "      <td>5.95</td>\n",
       "      <td>1.70250</td>\n",
       "      <td>7822.589</td>\n",
       "      <td>13298.401</td>\n",
       "      <td>2023-07-01</td>\n",
       "      <td>3.494860</td>\n",
       "    </tr>\n",
       "  </tbody>\n",
       "</table>\n",
       "</div>"
      ],
      "text/plain": [
       "  code  arrivals                  name currency_code  local_price  dollar_ex  \\\n",
       "1  ARE    8475.0  United Arab Emirates           AED        18.00    3.67305   \n",
       "3  ARG    6162.0             Argentina           ARS      1650.00  275.27500   \n",
       "5  AUS  409096.0             Australia           AUD         7.45    1.48401   \n",
       "7  AUT   14358.0               Austria           EUR         4.81    0.90699   \n",
       "9  AZE    1712.0            Azerbaijan           AZN         5.95    1.70250   \n",
       "\n",
       "   GDP_dollar    GDP_local        date  adjust_price  \n",
       "1   52625.126   193265.777  2023-07-01      4.900559  \n",
       "3   13640.410  1782994.200  2023-07-01      5.994006  \n",
       "5   65574.862    94358.390  2023-07-01      5.020183  \n",
       "7   52483.930    49800.808  2023-07-01      5.303256  \n",
       "9    7822.589    13298.401  2023-07-01      3.494860  "
      ]
     },
     "execution_count": 34,
     "metadata": {},
     "output_type": "execute_result"
    }
   ],
   "source": [
    "md.head()"
   ]
  },
  {
   "cell_type": "code",
   "execution_count": 13,
   "metadata": {},
   "outputs": [
    {
     "data": {
      "text/html": [
       "<div>\n",
       "<style scoped>\n",
       "    .dataframe tbody tr th:only-of-type {\n",
       "        vertical-align: middle;\n",
       "    }\n",
       "\n",
       "    .dataframe tbody tr th {\n",
       "        vertical-align: top;\n",
       "    }\n",
       "\n",
       "    .dataframe thead th {\n",
       "        text-align: right;\n",
       "    }\n",
       "</style>\n",
       "<table border=\"1\" class=\"dataframe\">\n",
       "  <thead>\n",
       "    <tr style=\"text-align: right;\">\n",
       "      <th></th>\n",
       "      <th>arrivals</th>\n",
       "    </tr>\n",
       "    <tr>\n",
       "      <th>code</th>\n",
       "      <th></th>\n",
       "    </tr>\n",
       "  </thead>\n",
       "  <tbody>\n",
       "    <tr>\n",
       "      <th>AFG</th>\n",
       "      <td>684.0</td>\n",
       "    </tr>\n",
       "    <tr>\n",
       "      <th>AGO</th>\n",
       "      <td>78.0</td>\n",
       "    </tr>\n",
       "    <tr>\n",
       "      <th>AIA</th>\n",
       "      <td>1.0</td>\n",
       "    </tr>\n",
       "    <tr>\n",
       "      <th>ALB</th>\n",
       "      <td>627.0</td>\n",
       "    </tr>\n",
       "    <tr>\n",
       "      <th>AND</th>\n",
       "      <td>88.0</td>\n",
       "    </tr>\n",
       "  </tbody>\n",
       "</table>\n",
       "</div>"
      ],
      "text/plain": [
       "      arrivals\n",
       "code          \n",
       "AFG      684.0\n",
       "AGO       78.0\n",
       "AIA        1.0\n",
       "ALB      627.0\n",
       "AND       88.0"
      ]
     },
     "execution_count": 13,
     "metadata": {},
     "output_type": "execute_result"
    }
   ],
   "source": [
    "summed.head()"
   ]
  },
  {
   "cell_type": "code",
   "execution_count": 9,
   "metadata": {},
   "outputs": [
    {
     "data": {
      "text/html": [
       "<div>\n",
       "<style scoped>\n",
       "    .dataframe tbody tr th:only-of-type {\n",
       "        vertical-align: middle;\n",
       "    }\n",
       "\n",
       "    .dataframe tbody tr th {\n",
       "        vertical-align: top;\n",
       "    }\n",
       "\n",
       "    .dataframe thead th {\n",
       "        text-align: right;\n",
       "    }\n",
       "</style>\n",
       "<table border=\"1\" class=\"dataframe\">\n",
       "  <thead>\n",
       "    <tr style=\"text-align: right;\">\n",
       "      <th></th>\n",
       "      <th>Unnamed: 0</th>\n",
       "      <th>date</th>\n",
       "      <th>code</th>\n",
       "      <th>soe</th>\n",
       "      <th>arrivals</th>\n",
       "      <th>arrivals_male</th>\n",
       "      <th>arrivals_female</th>\n",
       "      <th>country</th>\n",
       "      <th>latitude</th>\n",
       "      <th>longitude</th>\n",
       "    </tr>\n",
       "  </thead>\n",
       "  <tbody>\n",
       "    <tr>\n",
       "      <th>877</th>\n",
       "      <td>5123</td>\n",
       "      <td>Apr 2023</td>\n",
       "      <td>AFG</td>\n",
       "      <td>Johor</td>\n",
       "      <td>2.0</td>\n",
       "      <td>2.0</td>\n",
       "      <td>0.0</td>\n",
       "      <td>Afghanistan</td>\n",
       "      <td>33.939110</td>\n",
       "      <td>67.709953</td>\n",
       "    </tr>\n",
       "    <tr>\n",
       "      <th>878</th>\n",
       "      <td>5124</td>\n",
       "      <td>Apr 2023</td>\n",
       "      <td>AFG</td>\n",
       "      <td>Kedah</td>\n",
       "      <td>1.0</td>\n",
       "      <td>1.0</td>\n",
       "      <td>0.0</td>\n",
       "      <td>Afghanistan</td>\n",
       "      <td>33.939110</td>\n",
       "      <td>67.709953</td>\n",
       "    </tr>\n",
       "    <tr>\n",
       "      <th>879</th>\n",
       "      <td>5127</td>\n",
       "      <td>Apr 2023</td>\n",
       "      <td>AFG</td>\n",
       "      <td>Sarawak</td>\n",
       "      <td>1.0</td>\n",
       "      <td>1.0</td>\n",
       "      <td>0.0</td>\n",
       "      <td>Afghanistan</td>\n",
       "      <td>33.939110</td>\n",
       "      <td>67.709953</td>\n",
       "    </tr>\n",
       "    <tr>\n",
       "      <th>880</th>\n",
       "      <td>5128</td>\n",
       "      <td>Apr 2023</td>\n",
       "      <td>AFG</td>\n",
       "      <td>Selangor</td>\n",
       "      <td>31.0</td>\n",
       "      <td>23.0</td>\n",
       "      <td>8.0</td>\n",
       "      <td>Afghanistan</td>\n",
       "      <td>33.939110</td>\n",
       "      <td>67.709953</td>\n",
       "    </tr>\n",
       "    <tr>\n",
       "      <th>881</th>\n",
       "      <td>5129</td>\n",
       "      <td>Apr 2023</td>\n",
       "      <td>AGO</td>\n",
       "      <td>Johor</td>\n",
       "      <td>2.0</td>\n",
       "      <td>0.0</td>\n",
       "      <td>2.0</td>\n",
       "      <td>Angola</td>\n",
       "      <td>-11.202692</td>\n",
       "      <td>17.873887</td>\n",
       "    </tr>\n",
       "  </tbody>\n",
       "</table>\n",
       "</div>"
      ],
      "text/plain": [
       "     Unnamed: 0      date code       soe  arrivals  arrivals_male  \\\n",
       "877        5123  Apr 2023  AFG     Johor       2.0            2.0   \n",
       "878        5124  Apr 2023  AFG     Kedah       1.0            1.0   \n",
       "879        5127  Apr 2023  AFG   Sarawak       1.0            1.0   \n",
       "880        5128  Apr 2023  AFG  Selangor      31.0           23.0   \n",
       "881        5129  Apr 2023  AGO     Johor       2.0            0.0   \n",
       "\n",
       "     arrivals_female      country   latitude  longitude  \n",
       "877              0.0  Afghanistan  33.939110  67.709953  \n",
       "878              0.0  Afghanistan  33.939110  67.709953  \n",
       "879              0.0  Afghanistan  33.939110  67.709953  \n",
       "880              8.0  Afghanistan  33.939110  67.709953  \n",
       "881              2.0       Angola -11.202692  17.873887  "
      ]
     },
     "execution_count": 9,
     "metadata": {},
     "output_type": "execute_result"
    }
   ],
   "source": [
    "a.head()"
   ]
  },
  {
   "cell_type": "code",
   "execution_count": 45,
   "metadata": {},
   "outputs": [
    {
     "data": {
      "text/html": [
       "<div>\n",
       "<style scoped>\n",
       "    .dataframe tbody tr th:only-of-type {\n",
       "        vertical-align: middle;\n",
       "    }\n",
       "\n",
       "    .dataframe tbody tr th {\n",
       "        vertical-align: top;\n",
       "    }\n",
       "\n",
       "    .dataframe thead th {\n",
       "        text-align: right;\n",
       "    }\n",
       "</style>\n",
       "<table border=\"1\" class=\"dataframe\">\n",
       "  <thead>\n",
       "    <tr style=\"text-align: right;\">\n",
       "      <th></th>\n",
       "      <th>name</th>\n",
       "      <th>code</th>\n",
       "      <th>currency_code</th>\n",
       "      <th>local_price</th>\n",
       "      <th>dollar_ex</th>\n",
       "      <th>GDP_dollar</th>\n",
       "      <th>GDP_local</th>\n",
       "      <th>date</th>\n",
       "      <th>adjust_price</th>\n",
       "    </tr>\n",
       "  </thead>\n",
       "  <tbody>\n",
       "    <tr>\n",
       "      <th>1946</th>\n",
       "      <td>United Arab Emirates</td>\n",
       "      <td>ARE</td>\n",
       "      <td>AED</td>\n",
       "      <td>18.00</td>\n",
       "      <td>3.67300</td>\n",
       "      <td>52625.126</td>\n",
       "      <td>1.932658e+05</td>\n",
       "      <td>2023-01-01</td>\n",
       "      <td>4.900626</td>\n",
       "    </tr>\n",
       "    <tr>\n",
       "      <th>1947</th>\n",
       "      <td>Argentina</td>\n",
       "      <td>ARG</td>\n",
       "      <td>ARS</td>\n",
       "      <td>980.00</td>\n",
       "      <td>184.69875</td>\n",
       "      <td>13640.410</td>\n",
       "      <td>1.782994e+06</td>\n",
       "      <td>2023-01-01</td>\n",
       "      <td>5.305937</td>\n",
       "    </tr>\n",
       "    <tr>\n",
       "      <th>1948</th>\n",
       "      <td>Australia</td>\n",
       "      <td>AUS</td>\n",
       "      <td>AUD</td>\n",
       "      <td>7.25</td>\n",
       "      <td>1.41854</td>\n",
       "      <td>65574.862</td>\n",
       "      <td>9.435839e+04</td>\n",
       "      <td>2023-01-01</td>\n",
       "      <td>5.110888</td>\n",
       "    </tr>\n",
       "    <tr>\n",
       "      <th>1949</th>\n",
       "      <td>Austria</td>\n",
       "      <td>AUT</td>\n",
       "      <td>EUR</td>\n",
       "      <td>4.48</td>\n",
       "      <td>0.91950</td>\n",
       "      <td>52483.930</td>\n",
       "      <td>4.980081e+04</td>\n",
       "      <td>2023-01-01</td>\n",
       "      <td>4.872213</td>\n",
       "    </tr>\n",
       "    <tr>\n",
       "      <th>1950</th>\n",
       "      <td>Azerbaijan</td>\n",
       "      <td>AZE</td>\n",
       "      <td>AZN</td>\n",
       "      <td>4.90</td>\n",
       "      <td>1.70250</td>\n",
       "      <td>7822.589</td>\n",
       "      <td>1.329840e+04</td>\n",
       "      <td>2023-01-01</td>\n",
       "      <td>2.878120</td>\n",
       "    </tr>\n",
       "    <tr>\n",
       "      <th>...</th>\n",
       "      <td>...</td>\n",
       "      <td>...</td>\n",
       "      <td>...</td>\n",
       "      <td>...</td>\n",
       "      <td>...</td>\n",
       "      <td>...</td>\n",
       "      <td>...</td>\n",
       "      <td>...</td>\n",
       "      <td>...</td>\n",
       "    </tr>\n",
       "    <tr>\n",
       "      <th>2083</th>\n",
       "      <td>Ukraine</td>\n",
       "      <td>UKR</td>\n",
       "      <td>UAH</td>\n",
       "      <td>105.00</td>\n",
       "      <td>36.93145</td>\n",
       "      <td>4582.609</td>\n",
       "      <td>1.481953e+05</td>\n",
       "      <td>2023-07-01</td>\n",
       "      <td>2.843105</td>\n",
       "    </tr>\n",
       "    <tr>\n",
       "      <th>2084</th>\n",
       "      <td>Uruguay</td>\n",
       "      <td>URY</td>\n",
       "      <td>UYU</td>\n",
       "      <td>259.00</td>\n",
       "      <td>37.76500</td>\n",
       "      <td>19737.342</td>\n",
       "      <td>8.125403e+05</td>\n",
       "      <td>2023-07-01</td>\n",
       "      <td>6.858202</td>\n",
       "    </tr>\n",
       "    <tr>\n",
       "      <th>2085</th>\n",
       "      <td>United States</td>\n",
       "      <td>USA</td>\n",
       "      <td>USD</td>\n",
       "      <td>5.58</td>\n",
       "      <td>1.00000</td>\n",
       "      <td>77191.871</td>\n",
       "      <td>7.719187e+04</td>\n",
       "      <td>2023-07-01</td>\n",
       "      <td>5.580000</td>\n",
       "    </tr>\n",
       "    <tr>\n",
       "      <th>2086</th>\n",
       "      <td>Vietnam</td>\n",
       "      <td>VNM</td>\n",
       "      <td>VND</td>\n",
       "      <td>74000.00</td>\n",
       "      <td>23687.50000</td>\n",
       "      <td>4101.730</td>\n",
       "      <td>9.600417e+07</td>\n",
       "      <td>2023-07-01</td>\n",
       "      <td>3.124011</td>\n",
       "    </tr>\n",
       "    <tr>\n",
       "      <th>2087</th>\n",
       "      <td>South Africa</td>\n",
       "      <td>ZAF</td>\n",
       "      <td>ZAR</td>\n",
       "      <td>49.90</td>\n",
       "      <td>17.78375</td>\n",
       "      <td>6684.479</td>\n",
       "      <td>1.093748e+05</td>\n",
       "      <td>2023-07-01</td>\n",
       "      <td>2.805932</td>\n",
       "    </tr>\n",
       "  </tbody>\n",
       "</table>\n",
       "<p>142 rows × 9 columns</p>\n",
       "</div>"
      ],
      "text/plain": [
       "                      name code currency_code  local_price    dollar_ex  \\\n",
       "1946  United Arab Emirates  ARE           AED        18.00      3.67300   \n",
       "1947             Argentina  ARG           ARS       980.00    184.69875   \n",
       "1948             Australia  AUS           AUD         7.25      1.41854   \n",
       "1949               Austria  AUT           EUR         4.48      0.91950   \n",
       "1950            Azerbaijan  AZE           AZN         4.90      1.70250   \n",
       "...                    ...  ...           ...          ...          ...   \n",
       "2083               Ukraine  UKR           UAH       105.00     36.93145   \n",
       "2084               Uruguay  URY           UYU       259.00     37.76500   \n",
       "2085         United States  USA           USD         5.58      1.00000   \n",
       "2086               Vietnam  VNM           VND     74000.00  23687.50000   \n",
       "2087          South Africa  ZAF           ZAR        49.90     17.78375   \n",
       "\n",
       "      GDP_dollar     GDP_local        date  adjust_price  \n",
       "1946   52625.126  1.932658e+05  2023-01-01      4.900626  \n",
       "1947   13640.410  1.782994e+06  2023-01-01      5.305937  \n",
       "1948   65574.862  9.435839e+04  2023-01-01      5.110888  \n",
       "1949   52483.930  4.980081e+04  2023-01-01      4.872213  \n",
       "1950    7822.589  1.329840e+04  2023-01-01      2.878120  \n",
       "...          ...           ...         ...           ...  \n",
       "2083    4582.609  1.481953e+05  2023-07-01      2.843105  \n",
       "2084   19737.342  8.125403e+05  2023-07-01      6.858202  \n",
       "2085   77191.871  7.719187e+04  2023-07-01      5.580000  \n",
       "2086    4101.730  9.600417e+07  2023-07-01      3.124011  \n",
       "2087    6684.479  1.093748e+05  2023-07-01      2.805932  \n",
       "\n",
       "[142 rows x 9 columns]"
      ]
     },
     "execution_count": 45,
     "metadata": {},
     "output_type": "execute_result"
    }
   ],
   "source": [
    "bigmac"
   ]
  },
  {
   "cell_type": "code",
   "execution_count": 78,
   "metadata": {},
   "outputs": [],
   "source": [
    "import pandas as pd\n",
    "gdp=pd.read_csv(\"gdp_capita.csv\")\n"
   ]
  },
  {
   "cell_type": "code",
   "execution_count": 79,
   "metadata": {},
   "outputs": [],
   "source": [
    "# Set row 3 (index 2) as the new header\n",
    "gdp.columns = gdp.iloc[3]\n",
    "\n",
    "# Drop the first 3 rows to clean up the DataFrame (including the row used as the new header)\n",
    "gdp = gdp.drop([0, 1, 2, 3]).reset_index(drop=True)"
   ]
  },
  {
   "cell_type": "code",
   "execution_count": 80,
   "metadata": {},
   "outputs": [],
   "source": [
    "gdp=gdp[[\"Country Code\", 2023.0]]"
   ]
  },
  {
   "cell_type": "code",
   "execution_count": 81,
   "metadata": {},
   "outputs": [],
   "source": [
    "gdp=gdp.rename(columns={\"Country Code\": \"code\", 2023.0: \"gdp_capita\"})"
   ]
  },
  {
   "cell_type": "code",
   "execution_count": 83,
   "metadata": {},
   "outputs": [],
   "source": [
    "\n",
    "md = pd.merge(md, gdp, on=\"code\", how=\"left\")"
   ]
  },
  {
   "cell_type": "code",
   "execution_count": 84,
   "metadata": {},
   "outputs": [],
   "source": [
    "md[\"gdp_capita\"]=round(md[\"gdp_capita\"])"
   ]
  },
  {
   "cell_type": "code",
   "execution_count": 85,
   "metadata": {},
   "outputs": [
    {
     "data": {
      "text/html": [
       "<div>\n",
       "<style scoped>\n",
       "    .dataframe tbody tr th:only-of-type {\n",
       "        vertical-align: middle;\n",
       "    }\n",
       "\n",
       "    .dataframe tbody tr th {\n",
       "        vertical-align: top;\n",
       "    }\n",
       "\n",
       "    .dataframe thead th {\n",
       "        text-align: right;\n",
       "    }\n",
       "</style>\n",
       "<table border=\"1\" class=\"dataframe\">\n",
       "  <thead>\n",
       "    <tr style=\"text-align: right;\">\n",
       "      <th></th>\n",
       "      <th>name</th>\n",
       "      <th>code</th>\n",
       "      <th>currency_code</th>\n",
       "      <th>local_price</th>\n",
       "      <th>dollar_ex</th>\n",
       "      <th>GDP_dollar</th>\n",
       "      <th>GDP_local</th>\n",
       "      <th>date</th>\n",
       "      <th>adjust_price</th>\n",
       "      <th>arrivals</th>\n",
       "      <th>gdp_capita</th>\n",
       "    </tr>\n",
       "  </thead>\n",
       "  <tbody>\n",
       "    <tr>\n",
       "      <th>0</th>\n",
       "      <td>United Arab Emirates</td>\n",
       "      <td>ARE</td>\n",
       "      <td>AED</td>\n",
       "      <td>18.00</td>\n",
       "      <td>3.67300</td>\n",
       "      <td>52625.126</td>\n",
       "      <td>193265.777</td>\n",
       "      <td>2023-01-01</td>\n",
       "      <td>4.900626</td>\n",
       "      <td>8475.0</td>\n",
       "      <td>52977.0</td>\n",
       "    </tr>\n",
       "    <tr>\n",
       "      <th>1</th>\n",
       "      <td>Argentina</td>\n",
       "      <td>ARG</td>\n",
       "      <td>ARS</td>\n",
       "      <td>980.00</td>\n",
       "      <td>184.69875</td>\n",
       "      <td>13640.410</td>\n",
       "      <td>1782994.200</td>\n",
       "      <td>2023-01-01</td>\n",
       "      <td>5.305937</td>\n",
       "      <td>6162.0</td>\n",
       "      <td>13731.0</td>\n",
       "    </tr>\n",
       "    <tr>\n",
       "      <th>2</th>\n",
       "      <td>Australia</td>\n",
       "      <td>AUS</td>\n",
       "      <td>AUD</td>\n",
       "      <td>7.25</td>\n",
       "      <td>1.41854</td>\n",
       "      <td>65574.862</td>\n",
       "      <td>94358.390</td>\n",
       "      <td>2023-01-01</td>\n",
       "      <td>5.110888</td>\n",
       "      <td>409096.0</td>\n",
       "      <td>64712.0</td>\n",
       "    </tr>\n",
       "    <tr>\n",
       "      <th>3</th>\n",
       "      <td>Austria</td>\n",
       "      <td>AUT</td>\n",
       "      <td>EUR</td>\n",
       "      <td>4.48</td>\n",
       "      <td>0.91950</td>\n",
       "      <td>52483.930</td>\n",
       "      <td>49800.808</td>\n",
       "      <td>2023-01-01</td>\n",
       "      <td>4.872213</td>\n",
       "      <td>14358.0</td>\n",
       "      <td>56506.0</td>\n",
       "    </tr>\n",
       "    <tr>\n",
       "      <th>4</th>\n",
       "      <td>Azerbaijan</td>\n",
       "      <td>AZE</td>\n",
       "      <td>AZN</td>\n",
       "      <td>4.90</td>\n",
       "      <td>1.70250</td>\n",
       "      <td>7822.589</td>\n",
       "      <td>13298.401</td>\n",
       "      <td>2023-01-01</td>\n",
       "      <td>2.878120</td>\n",
       "      <td>1712.0</td>\n",
       "      <td>7155.0</td>\n",
       "    </tr>\n",
       "  </tbody>\n",
       "</table>\n",
       "</div>"
      ],
      "text/plain": [
       "                   name code currency_code  local_price  dollar_ex  \\\n",
       "0  United Arab Emirates  ARE           AED        18.00    3.67300   \n",
       "1             Argentina  ARG           ARS       980.00  184.69875   \n",
       "2             Australia  AUS           AUD         7.25    1.41854   \n",
       "3               Austria  AUT           EUR         4.48    0.91950   \n",
       "4            Azerbaijan  AZE           AZN         4.90    1.70250   \n",
       "\n",
       "   GDP_dollar    GDP_local        date  adjust_price  arrivals  gdp_capita  \n",
       "0   52625.126   193265.777  2023-01-01      4.900626    8475.0     52977.0  \n",
       "1   13640.410  1782994.200  2023-01-01      5.305937    6162.0     13731.0  \n",
       "2   65574.862    94358.390  2023-01-01      5.110888  409096.0     64712.0  \n",
       "3   52483.930    49800.808  2023-01-01      4.872213   14358.0     56506.0  \n",
       "4    7822.589    13298.401  2023-01-01      2.878120    1712.0      7155.0  "
      ]
     },
     "execution_count": 85,
     "metadata": {},
     "output_type": "execute_result"
    }
   ],
   "source": [
    "md.head()"
   ]
  },
  {
   "cell_type": "code",
   "execution_count": 2,
   "metadata": {},
   "outputs": [],
   "source": [
    "import pandas as pd"
   ]
  },
  {
   "cell_type": "code",
   "execution_count": 86,
   "metadata": {},
   "outputs": [],
   "source": [
    "dist=pd.read_csv(\"https://raw.githubusercontent.com/rahulbot/distances-between-countries/refs/heads/master/distances.csv\")"
   ]
  },
  {
   "cell_type": "code",
   "execution_count": 87,
   "metadata": {},
   "outputs": [],
   "source": [
    "dist = dist.rename(columns={dist.columns[0]: 'code'})\n",
    "dist=dist[[\"code\", \"MYS\"]]\n",
    "dist=dist.rename(columns={\"MYS\": \"distance\"})"
   ]
  },
  {
   "cell_type": "code",
   "execution_count": 88,
   "metadata": {},
   "outputs": [
    {
     "data": {
      "text/html": [
       "<div>\n",
       "<style scoped>\n",
       "    .dataframe tbody tr th:only-of-type {\n",
       "        vertical-align: middle;\n",
       "    }\n",
       "\n",
       "    .dataframe tbody tr th {\n",
       "        vertical-align: top;\n",
       "    }\n",
       "\n",
       "    .dataframe thead th {\n",
       "        text-align: right;\n",
       "    }\n",
       "</style>\n",
       "<table border=\"1\" class=\"dataframe\">\n",
       "  <thead>\n",
       "    <tr style=\"text-align: right;\">\n",
       "      <th></th>\n",
       "      <th>code</th>\n",
       "      <th>distance</th>\n",
       "    </tr>\n",
       "  </thead>\n",
       "  <tbody>\n",
       "    <tr>\n",
       "      <th>0</th>\n",
       "      <td>ABW</td>\n",
       "      <td>17772.198137</td>\n",
       "    </tr>\n",
       "    <tr>\n",
       "      <th>1</th>\n",
       "      <td>AFG</td>\n",
       "      <td>4627.929927</td>\n",
       "    </tr>\n",
       "    <tr>\n",
       "      <th>2</th>\n",
       "      <td>AGO</td>\n",
       "      <td>10012.910963</td>\n",
       "    </tr>\n",
       "    <tr>\n",
       "      <th>3</th>\n",
       "      <td>AIA</td>\n",
       "      <td>16872.110747</td>\n",
       "    </tr>\n",
       "    <tr>\n",
       "      <th>4</th>\n",
       "      <td>ALB</td>\n",
       "      <td>8930.954065</td>\n",
       "    </tr>\n",
       "    <tr>\n",
       "      <th>...</th>\n",
       "      <td>...</td>\n",
       "      <td>...</td>\n",
       "    </tr>\n",
       "    <tr>\n",
       "      <th>230</th>\n",
       "      <td>WSM</td>\n",
       "      <td>9748.630964</td>\n",
       "    </tr>\n",
       "    <tr>\n",
       "      <th>231</th>\n",
       "      <td>YEM</td>\n",
       "      <td>6411.044984</td>\n",
       "    </tr>\n",
       "    <tr>\n",
       "      <th>232</th>\n",
       "      <td>ZAF</td>\n",
       "      <td>9822.689546</td>\n",
       "    </tr>\n",
       "    <tr>\n",
       "      <th>233</th>\n",
       "      <td>ZMB</td>\n",
       "      <td>8491.259645</td>\n",
       "    </tr>\n",
       "    <tr>\n",
       "      <th>234</th>\n",
       "      <td>ZWE</td>\n",
       "      <td>8253.128523</td>\n",
       "    </tr>\n",
       "  </tbody>\n",
       "</table>\n",
       "<p>235 rows × 2 columns</p>\n",
       "</div>"
      ],
      "text/plain": [
       "    code      distance\n",
       "0    ABW  17772.198137\n",
       "1    AFG   4627.929927\n",
       "2    AGO  10012.910963\n",
       "3    AIA  16872.110747\n",
       "4    ALB   8930.954065\n",
       "..   ...           ...\n",
       "230  WSM   9748.630964\n",
       "231  YEM   6411.044984\n",
       "232  ZAF   9822.689546\n",
       "233  ZMB   8491.259645\n",
       "234  ZWE   8253.128523\n",
       "\n",
       "[235 rows x 2 columns]"
      ]
     },
     "execution_count": 88,
     "metadata": {},
     "output_type": "execute_result"
    }
   ],
   "source": [
    "dist"
   ]
  },
  {
   "cell_type": "code",
   "execution_count": 89,
   "metadata": {},
   "outputs": [],
   "source": [
    "md = pd.merge(md, dist, on=\"code\", how=\"left\")"
   ]
  },
  {
   "cell_type": "code",
   "execution_count": 90,
   "metadata": {},
   "outputs": [],
   "source": [
    "md[\"distance\"]=round(md[\"distance\"])"
   ]
  },
  {
   "cell_type": "code",
   "execution_count": 91,
   "metadata": {},
   "outputs": [],
   "source": [
    "md.to_csv(\"bubbleChart_pictograph.csv\")"
   ]
  },
  {
   "cell_type": "code",
   "execution_count": 2,
   "metadata": {},
   "outputs": [],
   "source": [
    "import pandas as pd\n",
    "subreg=pd.read_csv(\"subregion.csv\")\n",
    "md=pd.read_csv(\"grouped_arrivals.csv\")"
   ]
  },
  {
   "cell_type": "code",
   "execution_count": 3,
   "metadata": {},
   "outputs": [],
   "source": [
    "subreg=subreg[[\"alpha-3\", \"sub-region\", \"region\"]]"
   ]
  },
  {
   "cell_type": "code",
   "execution_count": 4,
   "metadata": {},
   "outputs": [],
   "source": [
    "\n",
    "subreg = subreg.rename(columns={\"alpha-3\": \"code\"})"
   ]
  },
  {
   "cell_type": "code",
   "execution_count": 5,
   "metadata": {},
   "outputs": [],
   "source": [
    "md = pd.merge(md, subreg, on=\"code\", how=\"left\")"
   ]
  },
  {
   "cell_type": "code",
   "execution_count": 6,
   "metadata": {},
   "outputs": [],
   "source": [
    "md = md.drop(columns=[\"Unnamed: 0\"])\n"
   ]
  },
  {
   "cell_type": "code",
   "execution_count": 7,
   "metadata": {},
   "outputs": [],
   "source": [
    "import pandas as pd\n",
    "md = md.groupby([\"date\", \"sub-region\"])[\"arrivals\"].mean().reset_index()"
   ]
  },
  {
   "cell_type": "code",
   "execution_count": 8,
   "metadata": {},
   "outputs": [],
   "source": [
    "md[\"arrivals\"]=round(md[\"arrivals\"])\n",
    "md.to_csv(\"streamgraph.csv\")"
   ]
  },
  {
   "cell_type": "code",
   "execution_count": 10,
   "metadata": {},
   "outputs": [],
   "source": [
    "import pandas as pd\n",
    "md=pd.read_csv(\"streamgraph.csv\")\n",
    "reg=pd.read_csv(\"subregion.csv\")"
   ]
  },
  {
   "cell_type": "code",
   "execution_count": 65,
   "metadata": {},
   "outputs": [],
   "source": [
    "bigmac=pd.read_csv(\"bubbleChart_pictograph.csv\")"
   ]
  },
  {
   "cell_type": "code",
   "execution_count": 66,
   "metadata": {},
   "outputs": [],
   "source": [
    "bigmac=bigmac[[\"name\", \"adjust_price\", \"arrivals\", \"code\"]]\n",
    "bigmac_unique = bigmac.drop_duplicates(subset='code')"
   ]
  },
  {
   "cell_type": "code",
   "execution_count": 76,
   "metadata": {},
   "outputs": [],
   "source": [
    "top_20_sorted = bigmac.sort_values(by='arrivals', ascending=False).head(30)\n",
    "res = bigmac.sample(n=10, random_state=42)"
   ]
  },
  {
   "cell_type": "code",
   "execution_count": 81,
   "metadata": {},
   "outputs": [],
   "source": [
    "a=top_20_sorted.drop_duplicates(subset=[\"name\"], keep='last').sort_values(by=\"arrivals\", ascending=False)"
   ]
  },
  {
   "cell_type": "code",
   "execution_count": 1,
   "metadata": {},
   "outputs": [],
   "source": [
    "import pandas as pd\n",
    "b=pd.read_csv(\"bubbleChart_pictograph.csv\")"
   ]
  },
  {
   "cell_type": "code",
   "execution_count": 11,
   "metadata": {},
   "outputs": [
    {
     "data": {
      "text/plain": [
       "108438.547"
      ]
     },
     "execution_count": 11,
     "metadata": {},
     "output_type": "execute_result"
    }
   ],
   "source": [
    "b[\"GDP_dollar\"].max()"
   ]
  },
  {
   "cell_type": "code",
   "execution_count": 2,
   "metadata": {},
   "outputs": [
    {
     "data": {
      "text/html": [
       "<div>\n",
       "<style scoped>\n",
       "    .dataframe tbody tr th:only-of-type {\n",
       "        vertical-align: middle;\n",
       "    }\n",
       "\n",
       "    .dataframe tbody tr th {\n",
       "        vertical-align: top;\n",
       "    }\n",
       "\n",
       "    .dataframe thead th {\n",
       "        text-align: right;\n",
       "    }\n",
       "</style>\n",
       "<table border=\"1\" class=\"dataframe\">\n",
       "  <thead>\n",
       "    <tr style=\"text-align: right;\">\n",
       "      <th></th>\n",
       "      <th>Unnamed: 0</th>\n",
       "      <th>date</th>\n",
       "      <th>sub-region</th>\n",
       "      <th>arrivals</th>\n",
       "    </tr>\n",
       "  </thead>\n",
       "  <tbody>\n",
       "    <tr>\n",
       "      <th>0</th>\n",
       "      <td>0</td>\n",
       "      <td>Apr 2020</td>\n",
       "      <td>Australia and New Zealand</td>\n",
       "      <td>6.0</td>\n",
       "    </tr>\n",
       "    <tr>\n",
       "      <th>1</th>\n",
       "      <td>1</td>\n",
       "      <td>Apr 2020</td>\n",
       "      <td>Eastern Asia</td>\n",
       "      <td>10.0</td>\n",
       "    </tr>\n",
       "    <tr>\n",
       "      <th>2</th>\n",
       "      <td>2</td>\n",
       "      <td>Apr 2020</td>\n",
       "      <td>Eastern Europe</td>\n",
       "      <td>2.0</td>\n",
       "    </tr>\n",
       "    <tr>\n",
       "      <th>3</th>\n",
       "      <td>3</td>\n",
       "      <td>Apr 2020</td>\n",
       "      <td>Northern Africa</td>\n",
       "      <td>3.0</td>\n",
       "    </tr>\n",
       "    <tr>\n",
       "      <th>4</th>\n",
       "      <td>4</td>\n",
       "      <td>Apr 2020</td>\n",
       "      <td>Northern America</td>\n",
       "      <td>6.0</td>\n",
       "    </tr>\n",
       "    <tr>\n",
       "      <th>...</th>\n",
       "      <td>...</td>\n",
       "      <td>...</td>\n",
       "      <td>...</td>\n",
       "      <td>...</td>\n",
       "    </tr>\n",
       "    <tr>\n",
       "      <th>866</th>\n",
       "      <td>866</td>\n",
       "      <td>Sep 2023</td>\n",
       "      <td>Southern Asia</td>\n",
       "      <td>2825.0</td>\n",
       "    </tr>\n",
       "    <tr>\n",
       "      <th>867</th>\n",
       "      <td>867</td>\n",
       "      <td>Sep 2023</td>\n",
       "      <td>Southern Europe</td>\n",
       "      <td>159.0</td>\n",
       "    </tr>\n",
       "    <tr>\n",
       "      <th>868</th>\n",
       "      <td>868</td>\n",
       "      <td>Sep 2023</td>\n",
       "      <td>Sub-Saharan Africa</td>\n",
       "      <td>59.0</td>\n",
       "    </tr>\n",
       "    <tr>\n",
       "      <th>869</th>\n",
       "      <td>869</td>\n",
       "      <td>Sep 2023</td>\n",
       "      <td>Western Asia</td>\n",
       "      <td>163.0</td>\n",
       "    </tr>\n",
       "    <tr>\n",
       "      <th>870</th>\n",
       "      <td>870</td>\n",
       "      <td>Sep 2023</td>\n",
       "      <td>Western Europe</td>\n",
       "      <td>468.0</td>\n",
       "    </tr>\n",
       "  </tbody>\n",
       "</table>\n",
       "<p>871 rows × 4 columns</p>\n",
       "</div>"
      ],
      "text/plain": [
       "     Unnamed: 0      date                 sub-region  arrivals\n",
       "0             0  Apr 2020  Australia and New Zealand       6.0\n",
       "1             1  Apr 2020               Eastern Asia      10.0\n",
       "2             2  Apr 2020             Eastern Europe       2.0\n",
       "3             3  Apr 2020            Northern Africa       3.0\n",
       "4             4  Apr 2020           Northern America       6.0\n",
       "..          ...       ...                        ...       ...\n",
       "866         866  Sep 2023              Southern Asia    2825.0\n",
       "867         867  Sep 2023            Southern Europe     159.0\n",
       "868         868  Sep 2023         Sub-Saharan Africa      59.0\n",
       "869         869  Sep 2023               Western Asia     163.0\n",
       "870         870  Sep 2023             Western Europe     468.0\n",
       "\n",
       "[871 rows x 4 columns]"
      ]
     },
     "execution_count": 2,
     "metadata": {},
     "output_type": "execute_result"
    }
   ],
   "source": [
    "import pandas as pd\n",
    "a=pd.read_csv(\"streamgraph.csv\")"
   ]
  },
  {
   "cell_type": "code",
   "execution_count": 3,
   "metadata": {},
   "outputs": [
    {
     "data": {
      "text/html": [
       "<div>\n",
       "<style scoped>\n",
       "    .dataframe tbody tr th:only-of-type {\n",
       "        vertical-align: middle;\n",
       "    }\n",
       "\n",
       "    .dataframe tbody tr th {\n",
       "        vertical-align: top;\n",
       "    }\n",
       "\n",
       "    .dataframe thead th {\n",
       "        text-align: right;\n",
       "    }\n",
       "</style>\n",
       "<table border=\"1\" class=\"dataframe\">\n",
       "  <thead>\n",
       "    <tr style=\"text-align: right;\">\n",
       "      <th></th>\n",
       "      <th>Date</th>\n",
       "      <th>Event</th>\n",
       "      <th>Region</th>\n",
       "      <th>Destination</th>\n",
       "    </tr>\n",
       "  </thead>\n",
       "  <tbody>\n",
       "    <tr>\n",
       "      <th>0</th>\n",
       "      <td>1990s</td>\n",
       "      <td>Post-Soviet migration begins as Eastern Europe...</td>\n",
       "      <td>Eastern Europe</td>\n",
       "      <td>Southeast Asia</td>\n",
       "    </tr>\n",
       "    <tr>\n",
       "      <th>1</th>\n",
       "      <td>2000s to Early 2010s</td>\n",
       "      <td>Increased migration to Southeast Asia due to g...</td>\n",
       "      <td>Eastern Europe</td>\n",
       "      <td>Southeast Asia</td>\n",
       "    </tr>\n",
       "    <tr>\n",
       "      <th>2</th>\n",
       "      <td>2014</td>\n",
       "      <td>Heightened migration from Ukraine due to confl...</td>\n",
       "      <td>Eastern Europe</td>\n",
       "      <td>Southeast Asia</td>\n",
       "    </tr>\n",
       "    <tr>\n",
       "      <th>3</th>\n",
       "      <td>2022</td>\n",
       "      <td>Surge in Ukrainian refugees fleeing the Russo-...</td>\n",
       "      <td>Eastern Europe</td>\n",
       "      <td>Southeast Asia</td>\n",
       "    </tr>\n",
       "  </tbody>\n",
       "</table>\n",
       "</div>"
      ],
      "text/plain": [
       "                   Date                                              Event  \\\n",
       "0                 1990s  Post-Soviet migration begins as Eastern Europe...   \n",
       "1  2000s to Early 2010s  Increased migration to Southeast Asia due to g...   \n",
       "2                  2014  Heightened migration from Ukraine due to confl...   \n",
       "3                  2022  Surge in Ukrainian refugees fleeing the Russo-...   \n",
       "\n",
       "           Region     Destination  \n",
       "0  Eastern Europe  Southeast Asia  \n",
       "1  Eastern Europe  Southeast Asia  \n",
       "2  Eastern Europe  Southeast Asia  \n",
       "3  Eastern Europe  Southeast Asia  "
      ]
     },
     "execution_count": 3,
     "metadata": {},
     "output_type": "execute_result"
    }
   ],
   "source": [
    "import pandas as pd\n",
    "\n",
    "# Creating a DataFrame with significant migration events of Eastern Europeans to Southeast Asia\n",
    "data = {\n",
    "    \"Date\": [\n",
    "        \"1990s\",            # Post-Soviet Era\n",
    "        \"2000s to Early 2010s\", # Economic growth and opportunities\n",
    "        \"2014\",             # After Crimea annexation\n",
    "        \"2022\",             # Russo-Ukraine War\n",
    "    ],\n",
    "    \"Event\": [\n",
    "        \"Post-Soviet migration begins as Eastern Europeans seek new opportunities abroad.\",\n",
    "        \"Increased migration to Southeast Asia due to growing economies and job opportunities.\",\n",
    "        \"Heightened migration from Ukraine due to conflict and instability.\",\n",
    "        \"Surge in Ukrainian refugees fleeing the Russo-Ukraine War, seeking safety and stability.\",\n",
    "    ],\n",
    "    \"Region\": [\n",
    "        \"Eastern Europe\",\n",
    "        \"Eastern Europe\",\n",
    "        \"Eastern Europe\",\n",
    "        \"Eastern Europe\",\n",
    "    ],\n",
    "    \"Destination\": [\n",
    "        \"Southeast Asia\",\n",
    "        \"Southeast Asia\",\n",
    "        \"Southeast Asia\",\n",
    "        \"Southeast Asia\",\n",
    "    ]\n",
    "}\n",
    "\n",
    "# Creating the DataFrame\n",
    "migration_df = pd.DataFrame(data)\n",
    "migration_df\n"
   ]
  },
  {
   "cell_type": "code",
   "execution_count": 2,
   "metadata": {},
   "outputs": [],
   "source": [
    "import pandas as pd "
   ]
  },
  {
   "cell_type": "code",
   "execution_count": 3,
   "metadata": {},
   "outputs": [],
   "source": [
    "b=pd.read_csv(\"bumpchart.csv\")"
   ]
  },
  {
   "cell_type": "code",
   "execution_count": 4,
   "metadata": {},
   "outputs": [],
   "source": [
    "b.columns = b.iloc[0]\n",
    "b = b[1:]"
   ]
  },
  {
   "cell_type": "code",
   "execution_count": 16,
   "metadata": {},
   "outputs": [
    {
     "data": {
      "text/html": [
       "<div>\n",
       "<style scoped>\n",
       "    .dataframe tbody tr th:only-of-type {\n",
       "        vertical-align: middle;\n",
       "    }\n",
       "\n",
       "    .dataframe tbody tr th {\n",
       "        vertical-align: top;\n",
       "    }\n",
       "\n",
       "    .dataframe thead th {\n",
       "        text-align: right;\n",
       "    }\n",
       "</style>\n",
       "<table border=\"1\" class=\"dataframe\">\n",
       "  <thead>\n",
       "    <tr style=\"text-align: right;\">\n",
       "      <th></th>\n",
       "      <th>Destination Country</th>\n",
       "      <th>Origin Country</th>\n",
       "      <th>2016</th>\n",
       "      <th>2017</th>\n",
       "      <th>2018</th>\n",
       "      <th>2019</th>\n",
       "      <th>2020</th>\n",
       "      <th>2021</th>\n",
       "      <th>2022</th>\n",
       "      <th>2023</th>\n",
       "    </tr>\n",
       "  </thead>\n",
       "  <tbody>\n",
       "    <tr>\n",
       "      <th>1</th>\n",
       "      <td>Brunei Darussalam</td>\n",
       "      <td>1.0</td>\n",
       "      <td>6.0</td>\n",
       "      <td>6.0</td>\n",
       "      <td>6.0</td>\n",
       "      <td>6.0</td>\n",
       "      <td>3.0</td>\n",
       "      <td>3.0</td>\n",
       "      <td>4.0</td>\n",
       "      <td>6.0</td>\n",
       "    </tr>\n",
       "    <tr>\n",
       "      <th>2</th>\n",
       "      <td>Cambodia</td>\n",
       "      <td>1.0</td>\n",
       "      <td>2.0</td>\n",
       "      <td>2.0</td>\n",
       "      <td>2.0</td>\n",
       "      <td>2.0</td>\n",
       "      <td>11.0</td>\n",
       "      <td>6.0</td>\n",
       "      <td>8.0</td>\n",
       "      <td>1.0</td>\n",
       "    </tr>\n",
       "    <tr>\n",
       "      <th>3</th>\n",
       "      <td>Indonesia</td>\n",
       "      <td>1.0</td>\n",
       "      <td>10.0</td>\n",
       "      <td>9.0</td>\n",
       "      <td>9.0</td>\n",
       "      <td>10.0</td>\n",
       "      <td>6.0</td>\n",
       "      <td>10.0</td>\n",
       "      <td>2.0</td>\n",
       "      <td>9.0</td>\n",
       "    </tr>\n",
       "    <tr>\n",
       "      <th>4</th>\n",
       "      <td>Lao PDR</td>\n",
       "      <td>1.0</td>\n",
       "      <td>3.0</td>\n",
       "      <td>4.0</td>\n",
       "      <td>3.0</td>\n",
       "      <td>3.0</td>\n",
       "      <td>2.0</td>\n",
       "      <td>NaN</td>\n",
       "      <td>11.0</td>\n",
       "      <td>3.0</td>\n",
       "    </tr>\n",
       "    <tr>\n",
       "      <th>5</th>\n",
       "      <td>Malaysia</td>\n",
       "      <td>1.0</td>\n",
       "      <td>5.0</td>\n",
       "      <td>7.0</td>\n",
       "      <td>7.0</td>\n",
       "      <td>7.0</td>\n",
       "      <td>5.0</td>\n",
       "      <td>8.0</td>\n",
       "      <td>10.0</td>\n",
       "      <td>5.0</td>\n",
       "    </tr>\n",
       "    <tr>\n",
       "      <th>6</th>\n",
       "      <td>Myanmar</td>\n",
       "      <td>1.0</td>\n",
       "      <td>7.0</td>\n",
       "      <td>5.0</td>\n",
       "      <td>5.0</td>\n",
       "      <td>4.0</td>\n",
       "      <td>1.0</td>\n",
       "      <td>9.0</td>\n",
       "      <td>6.0</td>\n",
       "      <td>11.0</td>\n",
       "    </tr>\n",
       "    <tr>\n",
       "      <th>7</th>\n",
       "      <td>Philippines</td>\n",
       "      <td>1.0</td>\n",
       "      <td>1.0</td>\n",
       "      <td>1.0</td>\n",
       "      <td>1.0</td>\n",
       "      <td>1.0</td>\n",
       "      <td>10.0</td>\n",
       "      <td>7.0</td>\n",
       "      <td>7.0</td>\n",
       "      <td>2.0</td>\n",
       "    </tr>\n",
       "    <tr>\n",
       "      <th>8</th>\n",
       "      <td>Singapore</td>\n",
       "      <td>1.0</td>\n",
       "      <td>8.0</td>\n",
       "      <td>8.0</td>\n",
       "      <td>8.0</td>\n",
       "      <td>8.0</td>\n",
       "      <td>9.0</td>\n",
       "      <td>2.0</td>\n",
       "      <td>1.0</td>\n",
       "      <td>7.0</td>\n",
       "    </tr>\n",
       "    <tr>\n",
       "      <th>9</th>\n",
       "      <td>Thailand</td>\n",
       "      <td>1.0</td>\n",
       "      <td>4.0</td>\n",
       "      <td>3.0</td>\n",
       "      <td>4.0</td>\n",
       "      <td>5.0</td>\n",
       "      <td>4.0</td>\n",
       "      <td>1.0</td>\n",
       "      <td>9.0</td>\n",
       "      <td>4.0</td>\n",
       "    </tr>\n",
       "    <tr>\n",
       "      <th>10</th>\n",
       "      <td>Viet Nam</td>\n",
       "      <td>1.0</td>\n",
       "      <td>11.0</td>\n",
       "      <td>11.0</td>\n",
       "      <td>10.0</td>\n",
       "      <td>9.0</td>\n",
       "      <td>7.0</td>\n",
       "      <td>4.0</td>\n",
       "      <td>5.0</td>\n",
       "      <td>8.0</td>\n",
       "    </tr>\n",
       "    <tr>\n",
       "      <th>11</th>\n",
       "      <td>ASEAN</td>\n",
       "      <td>1.0</td>\n",
       "      <td>9.0</td>\n",
       "      <td>10.0</td>\n",
       "      <td>11.0</td>\n",
       "      <td>11.0</td>\n",
       "      <td>8.0</td>\n",
       "      <td>5.0</td>\n",
       "      <td>3.0</td>\n",
       "      <td>10.0</td>\n",
       "    </tr>\n",
       "  </tbody>\n",
       "</table>\n",
       "</div>"
      ],
      "text/plain": [
       "0  Destination Country  Origin Country  2016  2017  2018  2019  2020  2021  \\\n",
       "1    Brunei Darussalam             1.0   6.0   6.0   6.0   6.0   3.0   3.0   \n",
       "2             Cambodia             1.0   2.0   2.0   2.0   2.0  11.0   6.0   \n",
       "3            Indonesia             1.0  10.0   9.0   9.0  10.0   6.0  10.0   \n",
       "4              Lao PDR             1.0   3.0   4.0   3.0   3.0   2.0   NaN   \n",
       "5             Malaysia             1.0   5.0   7.0   7.0   7.0   5.0   8.0   \n",
       "6              Myanmar             1.0   7.0   5.0   5.0   4.0   1.0   9.0   \n",
       "7          Philippines             1.0   1.0   1.0   1.0   1.0  10.0   7.0   \n",
       "8            Singapore             1.0   8.0   8.0   8.0   8.0   9.0   2.0   \n",
       "9             Thailand             1.0   4.0   3.0   4.0   5.0   4.0   1.0   \n",
       "10            Viet Nam             1.0  11.0  11.0  10.0   9.0   7.0   4.0   \n",
       "11               ASEAN             1.0   9.0  10.0  11.0  11.0   8.0   5.0   \n",
       "\n",
       "0   2022  2023  \n",
       "1    4.0   6.0  \n",
       "2    8.0   1.0  \n",
       "3    2.0   9.0  \n",
       "4   11.0   3.0  \n",
       "5   10.0   5.0  \n",
       "6    6.0  11.0  \n",
       "7    7.0   2.0  \n",
       "8    1.0   7.0  \n",
       "9    9.0   4.0  \n",
       "10   5.0   8.0  \n",
       "11   3.0  10.0  "
      ]
     },
     "execution_count": 16,
     "metadata": {},
     "output_type": "execute_result"
    }
   ],
   "source": [
    "ranked_df = b.copy()\n",
    "for year in b.columns[1:]:\n",
    "    ranked_df[year] = b[year].rank(ascending=False, method='min')\n",
    "ranked_df"
   ]
  },
  {
   "cell_type": "code",
   "execution_count": 33,
   "metadata": {},
   "outputs": [],
   "source": [
    "import pandas as pd"
   ]
  },
  {
   "cell_type": "code",
   "execution_count": 34,
   "metadata": {},
   "outputs": [],
   "source": [
    "df=pd.read_csv(\"arrivals_soe.csv\")\n",
    "sub=pd.read_csv(\"subregion.csv\")"
   ]
  },
  {
   "cell_type": "code",
   "execution_count": 35,
   "metadata": {},
   "outputs": [],
   "source": [
    "sub=sub[[\"alpha-3\", \"region\", \"sub-region\"]]"
   ]
  },
  {
   "cell_type": "code",
   "execution_count": 36,
   "metadata": {},
   "outputs": [],
   "source": [
    "sub.rename(columns={'alpha-3': 'country'}, inplace=True)"
   ]
  },
  {
   "cell_type": "code",
   "execution_count": 41,
   "metadata": {},
   "outputs": [],
   "source": [
    "df = pd.merge(df, sub, on='country', how='inner')\n"
   ]
  },
  {
   "cell_type": "code",
   "execution_count": 42,
   "metadata": {},
   "outputs": [],
   "source": [
    "sub_clean = df.drop_duplicates(subset=['date', 'country', 'soe', 'region'])"
   ]
  },
  {
   "cell_type": "code",
   "execution_count": 45,
   "metadata": {},
   "outputs": [],
   "source": [
    "sub_clean.to_csv(\"arrivals_soe.csv\")"
   ]
  },
  {
   "cell_type": "code",
   "execution_count": 53,
   "metadata": {},
   "outputs": [],
   "source": [
    "dist=pd.read_csv(\"distances_to_malaysia.csv\")\n",
    "bub=pd.read_csv(\"bubbleChart_pictograph.csv\")"
   ]
  },
  {
   "cell_type": "code",
   "execution_count": 74,
   "metadata": {},
   "outputs": [],
   "source": [
    "dist=dist.rename(columns={'Origin': 'Country'}, inplace=True)"
   ]
  },
  {
   "cell_type": "code",
   "execution_count": 86,
   "metadata": {},
   "outputs": [],
   "source": [
    "import pandas as pd\n",
    "import pycountry\n",
    "\n",
    "# List of country names (you can replace this with the actual country names if needed)\n",
    "country_names = dist['Origin'].tolist()  # Extract country names from the dist DataFrame\n",
    "\n",
    "# Create a dictionary to store country names and codes\n",
    "country_code_dict = {}\n",
    "\n",
    "# Iterate through the list of country names and get the ISO code\n",
    "for country in country_names:\n",
    "    try:\n",
    "        country_obj = pycountry.countries.lookup(country)\n",
    "        country_code_dict[country] = country_obj.alpha_3  # Use 'alpha_2' for 2-letter code\n",
    "    except LookupError:\n",
    "        country_code_dict[country] = None  # Assign None if country is not found\n",
    "\n",
    "# Convert the dictionary to a DataFrame\n",
    "country_codes_df = pd.DataFrame(list(country_code_dict.items()), columns=['Origin', 'code'])\n",
    "\n",
    "# Merge the country codes DataFrame with the distances DataFrame\n",
    "merged_df = pd.merge(dist, country_codes_df, on='Origin', how='left')\n",
    "merged_df = merged_df.drop(columns=['Origin'])\n",
    "\n"
   ]
  },
  {
   "cell_type": "code",
   "execution_count": 89,
   "metadata": {},
   "outputs": [
    {
     "data": {
      "text/html": [
       "<div>\n",
       "<style scoped>\n",
       "    .dataframe tbody tr th:only-of-type {\n",
       "        vertical-align: middle;\n",
       "    }\n",
       "\n",
       "    .dataframe tbody tr th {\n",
       "        vertical-align: top;\n",
       "    }\n",
       "\n",
       "    .dataframe thead th {\n",
       "        text-align: right;\n",
       "    }\n",
       "</style>\n",
       "<table border=\"1\" class=\"dataframe\">\n",
       "  <thead>\n",
       "    <tr style=\"text-align: right;\">\n",
       "      <th></th>\n",
       "      <th>Distance_km</th>\n",
       "      <th>code</th>\n",
       "    </tr>\n",
       "  </thead>\n",
       "  <tbody>\n",
       "    <tr>\n",
       "      <th>0</th>\n",
       "      <td>10542</td>\n",
       "      <td>AND</td>\n",
       "    </tr>\n",
       "    <tr>\n",
       "      <th>1</th>\n",
       "      <td>5583</td>\n",
       "      <td>ARE</td>\n",
       "    </tr>\n",
       "    <tr>\n",
       "      <th>2</th>\n",
       "      <td>4843</td>\n",
       "      <td>AFG</td>\n",
       "    </tr>\n",
       "    <tr>\n",
       "      <th>3</th>\n",
       "      <td>17054</td>\n",
       "      <td>ATG</td>\n",
       "    </tr>\n",
       "    <tr>\n",
       "      <th>4</th>\n",
       "      <td>17030</td>\n",
       "      <td>AIA</td>\n",
       "    </tr>\n",
       "    <tr>\n",
       "      <th>...</th>\n",
       "      <td>...</td>\n",
       "      <td>...</td>\n",
       "    </tr>\n",
       "    <tr>\n",
       "      <th>144</th>\n",
       "      <td>17107</td>\n",
       "      <td>MSR</td>\n",
       "    </tr>\n",
       "    <tr>\n",
       "      <th>145</th>\n",
       "      <td>9517</td>\n",
       "      <td>MLT</td>\n",
       "    </tr>\n",
       "    <tr>\n",
       "      <th>146</th>\n",
       "      <td>5564</td>\n",
       "      <td>MUS</td>\n",
       "    </tr>\n",
       "    <tr>\n",
       "      <th>147</th>\n",
       "      <td>3167</td>\n",
       "      <td>MDV</td>\n",
       "    </tr>\n",
       "    <tr>\n",
       "      <th>148</th>\n",
       "      <td>7716</td>\n",
       "      <td>MWI</td>\n",
       "    </tr>\n",
       "  </tbody>\n",
       "</table>\n",
       "<p>149 rows × 2 columns</p>\n",
       "</div>"
      ],
      "text/plain": [
       "     Distance_km code\n",
       "0          10542  AND\n",
       "1           5583  ARE\n",
       "2           4843  AFG\n",
       "3          17054  ATG\n",
       "4          17030  AIA\n",
       "..           ...  ...\n",
       "144        17107  MSR\n",
       "145         9517  MLT\n",
       "146         5564  MUS\n",
       "147         3167  MDV\n",
       "148         7716  MWI\n",
       "\n",
       "[149 rows x 2 columns]"
      ]
     },
     "execution_count": 89,
     "metadata": {},
     "output_type": "execute_result"
    }
   ],
   "source": [
    "merged_df"
   ]
  },
  {
   "cell_type": "code",
   "execution_count": 87,
   "metadata": {},
   "outputs": [],
   "source": [
    "final_df = pd.merge(merged_df, bub, on='code', how='left')\n"
   ]
  },
  {
   "cell_type": "code",
   "execution_count": 90,
   "metadata": {},
   "outputs": [],
   "source": [
    "final_df = final_df.dropna()"
   ]
  },
  {
   "cell_type": "code",
   "execution_count": 3,
   "metadata": {},
   "outputs": [],
   "source": [
    "import pandas as pd\n",
    "p=pd.read_csv(\"bubbleChart_pictograph.csv\")"
   ]
  },
  {
   "cell_type": "code",
   "execution_count": 5,
   "metadata": {},
   "outputs": [],
   "source": [
    "columns_to_drop = ['Unnamed: 0.1','Unnamed: 0']\n",
    "df = p.drop(columns=columns_to_drop)\n",
    "df.reset_index(drop=True, inplace=True)"
   ]
  },
  {
   "cell_type": "code",
   "execution_count": null,
   "metadata": {},
   "outputs": [],
   "source": [
    "df"
   ]
  },
  {
   "cell_type": "code",
   "execution_count": 23,
   "metadata": {},
   "outputs": [
    {
     "name": "stdout",
     "output_type": "stream",
     "text": [
      "Data has been saved to 'distances_between_countries.csv'\n",
      "       Origin                                        Destination  Distance_km\n",
      "186  Malaysia  Singapore\">Distance from Malaysia to Singapore...          378\n",
      "111  Cambodia   Malaysia\">Distance from Cambodia to Malaysia</a>          986\n",
      "225  Malaysia     Vietnam\">Distance from Malaysia to Vietnam</a>         1295\n",
      "203  Malaysia   Thailand\">Distance from Malaysia to Thailand</a>         1301\n",
      "27     Brunei     Malaysia\">Distance from Brunei to Malaysia</a>         1414\n",
      "        Distance_km\n",
      "count    250.000000\n",
      "mean    9974.356000\n",
      "std     4653.226482\n",
      "min      378.000000\n",
      "25%     6903.500000\n",
      "50%     9338.000000\n",
      "75%    12307.000000\n",
      "max    19750.000000\n"
     ]
    }
   ],
   "source": [
    "import re\n",
    "import pandas as pd\n",
    "\n",
    "def extract_data(html):\n",
    "    rows = re.findall(r'<tr><td>(.*?)</td><td>(.*?)</td><td>', html)\n",
    "    results = []\n",
    "    for row in rows:\n",
    "        match = re.search(r'Distance from (.*?) to (.*?)$', row[0])\n",
    "        if match:\n",
    "            origin, destination = match.groups()\n",
    "            distance = row[1].split()[0]  # Extract just the number\n",
    "            distance = distance.replace(',', '')  # Remove comma\n",
    "            results.append((origin, destination, distance))\n",
    "    return results\n",
    "\n",
    "# Assuming the HTML content is stored in a variable called 'html_content'\n",
    "data = extract_data(html_content)\n",
    "\n",
    "# Create a DataFrame\n",
    "df = pd.DataFrame(data, columns=['Origin', 'Destination', 'Distance_km'])\n",
    "\n",
    "# Convert Distance_km to numeric type\n",
    "df['Distance_km'] = pd.to_numeric(df['Distance_km'])\n",
    "\n",
    "# Sort the DataFrame by distance\n",
    "df = df.sort_values('Distance_km')\n",
    "\n",
    "# Save to CSV\n",
    "df.to_csv('distances_between_countries.csv', index=False)\n",
    "\n",
    "print(\"Data has been saved to 'distances_between_countries.csv'\")\n",
    "\n",
    "# Display the first few rows of the DataFrame\n",
    "print(df.head())\n",
    "\n",
    "# Display some basic statistics\n",
    "print(df.describe())"
   ]
  },
  {
   "cell_type": "code",
   "execution_count": 24,
   "metadata": {},
   "outputs": [
    {
     "data": {
      "text/plain": [
       "186    Singapore\">Distance from Malaysia to Singapore...\n",
       "111     Malaysia\">Distance from Cambodia to Malaysia</a>\n",
       "225       Vietnam\">Distance from Malaysia to Vietnam</a>\n",
       "203     Thailand\">Distance from Malaysia to Thailand</a>\n",
       "27        Malaysia\">Distance from Brunei to Malaysia</a>\n",
       "                             ...                        \n",
       "48     Malaysia\">Distance from Costa Rica to Malaysia...\n",
       "245         Panama\">Distance from Malaysia to Panama</a>\n",
       "47      Malaysia\">Distance from Colombia to Malaysia</a>\n",
       "162             Peru\">Distance from Malaysia to Peru</a>\n",
       "60       Malaysia\">Distance from Ecuador to Malaysia</a>\n",
       "Name: Destination, Length: 250, dtype: object"
      ]
     },
     "execution_count": 24,
     "metadata": {},
     "output_type": "execute_result"
    }
   ],
   "source": [
    "df[\"Destination\"]"
   ]
  },
  {
   "cell_type": "code",
   "execution_count": 25,
   "metadata": {},
   "outputs": [
    {
     "name": "stdout",
     "output_type": "stream",
     "text": [
      "\n",
      "After removing template:\n",
      "         Origin Destination  Distance_km\n",
      "186    Malaysia   Singapore          378\n",
      "111    Cambodia    Malaysia          986\n",
      "225    Malaysia     Vietnam         1295\n",
      "203    Malaysia    Thailand         1301\n",
      "27       Brunei    Malaysia         1414\n",
      "..          ...         ...          ...\n",
      "48   Costa Rica    Malaysia        18338\n",
      "245    Malaysia      Panama        18565\n",
      "47     Colombia    Malaysia        18955\n",
      "162    Malaysia        Peru        19369\n",
      "60      Ecuador    Malaysia        19750\n",
      "\n",
      "[250 rows x 3 columns]\n"
     ]
    }
   ],
   "source": [
    "# Remove templates like '>Distance from Cambodia to Malaysia</a>'\n",
    "df[\"Destination\"] = df[\"Destination\"].str.replace(r'>Distance from .* to .*</a>', '>', regex=True)\n",
    "df[\"Destination\"] = df[\"Destination\"].str.replace(r'\">', '', regex=False)  # Remove trailing '\">'\n",
    "\n",
    "# Display the DataFrame after removing the template\n",
    "print(\"\\nAfter removing template:\")\n",
    "print(df)"
   ]
  },
  {
   "cell_type": "code",
   "execution_count": 26,
   "metadata": {},
   "outputs": [
    {
     "data": {
      "text/html": [
       "<div>\n",
       "<style scoped>\n",
       "    .dataframe tbody tr th:only-of-type {\n",
       "        vertical-align: middle;\n",
       "    }\n",
       "\n",
       "    .dataframe tbody tr th {\n",
       "        vertical-align: top;\n",
       "    }\n",
       "\n",
       "    .dataframe thead th {\n",
       "        text-align: right;\n",
       "    }\n",
       "</style>\n",
       "<table border=\"1\" class=\"dataframe\">\n",
       "  <thead>\n",
       "    <tr style=\"text-align: right;\">\n",
       "      <th></th>\n",
       "      <th>Origin</th>\n",
       "      <th>Destination</th>\n",
       "      <th>Distance_km</th>\n",
       "    </tr>\n",
       "  </thead>\n",
       "  <tbody>\n",
       "    <tr>\n",
       "      <th>186</th>\n",
       "      <td>Malaysia</td>\n",
       "      <td>Singapore</td>\n",
       "      <td>378</td>\n",
       "    </tr>\n",
       "    <tr>\n",
       "      <th>111</th>\n",
       "      <td>Cambodia</td>\n",
       "      <td>Malaysia</td>\n",
       "      <td>986</td>\n",
       "    </tr>\n",
       "    <tr>\n",
       "      <th>225</th>\n",
       "      <td>Malaysia</td>\n",
       "      <td>Vietnam</td>\n",
       "      <td>1295</td>\n",
       "    </tr>\n",
       "    <tr>\n",
       "      <th>203</th>\n",
       "      <td>Malaysia</td>\n",
       "      <td>Thailand</td>\n",
       "      <td>1301</td>\n",
       "    </tr>\n",
       "    <tr>\n",
       "      <th>27</th>\n",
       "      <td>Brunei</td>\n",
       "      <td>Malaysia</td>\n",
       "      <td>1414</td>\n",
       "    </tr>\n",
       "    <tr>\n",
       "      <th>...</th>\n",
       "      <td>...</td>\n",
       "      <td>...</td>\n",
       "      <td>...</td>\n",
       "    </tr>\n",
       "    <tr>\n",
       "      <th>48</th>\n",
       "      <td>Costa Rica</td>\n",
       "      <td>Malaysia</td>\n",
       "      <td>18338</td>\n",
       "    </tr>\n",
       "    <tr>\n",
       "      <th>245</th>\n",
       "      <td>Malaysia</td>\n",
       "      <td>Panama</td>\n",
       "      <td>18565</td>\n",
       "    </tr>\n",
       "    <tr>\n",
       "      <th>47</th>\n",
       "      <td>Colombia</td>\n",
       "      <td>Malaysia</td>\n",
       "      <td>18955</td>\n",
       "    </tr>\n",
       "    <tr>\n",
       "      <th>162</th>\n",
       "      <td>Malaysia</td>\n",
       "      <td>Peru</td>\n",
       "      <td>19369</td>\n",
       "    </tr>\n",
       "    <tr>\n",
       "      <th>60</th>\n",
       "      <td>Ecuador</td>\n",
       "      <td>Malaysia</td>\n",
       "      <td>19750</td>\n",
       "    </tr>\n",
       "  </tbody>\n",
       "</table>\n",
       "<p>250 rows × 3 columns</p>\n",
       "</div>"
      ],
      "text/plain": [
       "         Origin Destination  Distance_km\n",
       "186    Malaysia   Singapore          378\n",
       "111    Cambodia    Malaysia          986\n",
       "225    Malaysia     Vietnam         1295\n",
       "203    Malaysia    Thailand         1301\n",
       "27       Brunei    Malaysia         1414\n",
       "..          ...         ...          ...\n",
       "48   Costa Rica    Malaysia        18338\n",
       "245    Malaysia      Panama        18565\n",
       "47     Colombia    Malaysia        18955\n",
       "162    Malaysia        Peru        19369\n",
       "60      Ecuador    Malaysia        19750\n",
       "\n",
       "[250 rows x 3 columns]"
      ]
     },
     "execution_count": 26,
     "metadata": {},
     "output_type": "execute_result"
    }
   ],
   "source": [
    "df"
   ]
  },
  {
   "cell_type": "code",
   "execution_count": 27,
   "metadata": {},
   "outputs": [
    {
     "data": {
      "text/html": [
       "<div>\n",
       "<style scoped>\n",
       "    .dataframe tbody tr th:only-of-type {\n",
       "        vertical-align: middle;\n",
       "    }\n",
       "\n",
       "    .dataframe tbody tr th {\n",
       "        vertical-align: top;\n",
       "    }\n",
       "\n",
       "    .dataframe thead th {\n",
       "        text-align: right;\n",
       "    }\n",
       "</style>\n",
       "<table border=\"1\" class=\"dataframe\">\n",
       "  <thead>\n",
       "    <tr style=\"text-align: right;\">\n",
       "      <th></th>\n",
       "      <th>Origin</th>\n",
       "      <th>Destination</th>\n",
       "      <th>Distance_km</th>\n",
       "    </tr>\n",
       "  </thead>\n",
       "  <tbody>\n",
       "    <tr>\n",
       "      <th>186</th>\n",
       "      <td>Singapore</td>\n",
       "      <td>Malaysia</td>\n",
       "      <td>378</td>\n",
       "    </tr>\n",
       "    <tr>\n",
       "      <th>111</th>\n",
       "      <td>Cambodia</td>\n",
       "      <td>Malaysia</td>\n",
       "      <td>986</td>\n",
       "    </tr>\n",
       "    <tr>\n",
       "      <th>225</th>\n",
       "      <td>Vietnam</td>\n",
       "      <td>Malaysia</td>\n",
       "      <td>1295</td>\n",
       "    </tr>\n",
       "    <tr>\n",
       "      <th>203</th>\n",
       "      <td>Thailand</td>\n",
       "      <td>Malaysia</td>\n",
       "      <td>1301</td>\n",
       "    </tr>\n",
       "    <tr>\n",
       "      <th>27</th>\n",
       "      <td>Brunei</td>\n",
       "      <td>Malaysia</td>\n",
       "      <td>1414</td>\n",
       "    </tr>\n",
       "    <tr>\n",
       "      <th>...</th>\n",
       "      <td>...</td>\n",
       "      <td>...</td>\n",
       "      <td>...</td>\n",
       "    </tr>\n",
       "    <tr>\n",
       "      <th>48</th>\n",
       "      <td>Costa Rica</td>\n",
       "      <td>Malaysia</td>\n",
       "      <td>18338</td>\n",
       "    </tr>\n",
       "    <tr>\n",
       "      <th>245</th>\n",
       "      <td>Panama</td>\n",
       "      <td>Malaysia</td>\n",
       "      <td>18565</td>\n",
       "    </tr>\n",
       "    <tr>\n",
       "      <th>47</th>\n",
       "      <td>Colombia</td>\n",
       "      <td>Malaysia</td>\n",
       "      <td>18955</td>\n",
       "    </tr>\n",
       "    <tr>\n",
       "      <th>162</th>\n",
       "      <td>Peru</td>\n",
       "      <td>Malaysia</td>\n",
       "      <td>19369</td>\n",
       "    </tr>\n",
       "    <tr>\n",
       "      <th>60</th>\n",
       "      <td>Ecuador</td>\n",
       "      <td>Malaysia</td>\n",
       "      <td>19750</td>\n",
       "    </tr>\n",
       "  </tbody>\n",
       "</table>\n",
       "<p>250 rows × 3 columns</p>\n",
       "</div>"
      ],
      "text/plain": [
       "         Origin Destination  Distance_km\n",
       "186   Singapore    Malaysia          378\n",
       "111    Cambodia    Malaysia          986\n",
       "225     Vietnam    Malaysia         1295\n",
       "203    Thailand    Malaysia         1301\n",
       "27       Brunei    Malaysia         1414\n",
       "..          ...         ...          ...\n",
       "48   Costa Rica    Malaysia        18338\n",
       "245      Panama    Malaysia        18565\n",
       "47     Colombia    Malaysia        18955\n",
       "162        Peru    Malaysia        19369\n",
       "60      Ecuador    Malaysia        19750\n",
       "\n",
       "[250 rows x 3 columns]"
      ]
     },
     "execution_count": 27,
     "metadata": {},
     "output_type": "execute_result"
    }
   ],
   "source": [
    "# Switch origin and destination where origin is \"Malaysia\"\n",
    "df.loc[df['Origin'] == 'Malaysia', ['Origin', 'Destination']] = df.loc[df['Origin'] == 'Malaysia', ['Destination', 'Origin']].values\n",
    "df"
   ]
  },
  {
   "cell_type": "code",
   "execution_count": 28,
   "metadata": {},
   "outputs": [],
   "source": [
    "import pandas as pd\n",
    "import pycountry\n",
    "\n",
    "# List of country names (you can replace this with the actual country names if needed)\n",
    "country_names = df['Origin'].tolist()  # Extract country names from the dist DataFrame\n",
    "\n",
    "# Create a dictionary to store country names and codes\n",
    "country_code_dict = {}\n",
    "\n",
    "# Iterate through the list of country names and get the ISO code\n",
    "for country in country_names:\n",
    "    try:\n",
    "        country_obj = pycountry.countries.lookup(country)\n",
    "        country_code_dict[country] = country_obj.alpha_3  # Use 'alpha_2' for 2-letter code\n",
    "    except LookupError:\n",
    "        country_code_dict[country] = None  # Assign None if country is not found\n",
    "\n",
    "# Convert the dictionary to a DataFrame\n",
    "country_codes_df = pd.DataFrame(list(country_code_dict.items()), columns=['Origin', 'code'])\n",
    "\n",
    "# Merge the country codes DataFrame with the distances DataFrame\n",
    "merged_df = pd.merge(df, country_codes_df, on='Origin', how='left')\n",
    "merged_df = merged_df.drop(columns=['Origin'])"
   ]
  },
  {
   "cell_type": "code",
   "execution_count": 31,
   "metadata": {},
   "outputs": [],
   "source": [
    "merged_df.drop('Destination', axis=1, inplace=True)\n",
    "bubble=pd.read_csv(\"old_bubblechart.csv\")\n"
   ]
  },
  {
   "cell_type": "code",
   "execution_count": 33,
   "metadata": {},
   "outputs": [],
   "source": [
    "bubble=pd.read_csv(\"old_bubblechart.csv\")"
   ]
  },
  {
   "cell_type": "code",
   "execution_count": 36,
   "metadata": {},
   "outputs": [],
   "source": [
    "merged_df = pd.merge(bubble, merged_df, on='code', how='inner') "
   ]
  },
  {
   "cell_type": "code",
   "execution_count": 38,
   "metadata": {},
   "outputs": [],
   "source": [
    "merged_df.to_csv(\"bubbleChart_pictograph.csv\")"
   ]
  },
  {
   "cell_type": "code",
   "execution_count": 2,
   "metadata": {},
   "outputs": [],
   "source": [
    "import pandas as pd\n",
    "ga=pd.read_csv(\"grouped_arrivals.csv\")\n",
    "sub=pd.read_csv(\"subregion.csv\")"
   ]
  },
  {
   "cell_type": "code",
   "execution_count": 4,
   "metadata": {},
   "outputs": [],
   "source": [
    "ga.dropna(subset=['soe'], inplace=True)\n"
   ]
  },
  {
   "cell_type": "code",
   "execution_count": 10,
   "metadata": {},
   "outputs": [],
   "source": [
    "sub.rename(columns={\"alpha-3\": \"code\"}, inplace=True)\n",
    "sub = sub[[\"code\", \"name\", \"region\", \"sub-region\"]]"
   ]
  },
  {
   "cell_type": "code",
   "execution_count": 12,
   "metadata": {},
   "outputs": [],
   "source": [
    "df=pd.merge(ga, sub, on=\"code\")"
   ]
  },
  {
   "cell_type": "code",
   "execution_count": 13,
   "metadata": {},
   "outputs": [],
   "source": [
    "df.to_csv(\"grouped_arrivals.csv\")"
   ]
  },
  {
   "cell_type": "code",
   "execution_count": 1,
   "metadata": {},
   "outputs": [],
   "source": [
    "import pandas as pd"
   ]
  },
  {
   "cell_type": "code",
   "execution_count": 6,
   "metadata": {},
   "outputs": [],
   "source": [
    "df = df.drop(df.columns[[0, 1]], axis=1)"
   ]
  },
  {
   "cell_type": "code",
   "execution_count": 9,
   "metadata": {},
   "outputs": [
    {
     "name": "stdout",
     "output_type": "stream",
     "text": [
      "                soe  arrivals_male  arrivals_female    arrivals\n",
      "0             Johor     22334867.0       17583695.0  39918562.0\n",
      "1             Kedah      1622238.0        1031763.0   2654001.0\n",
      "2          Kelantan       607108.0         562965.0   1170073.0\n",
      "3            Melaka        63397.0          77261.0    140658.0\n",
      "4   Negeri Sembilan       117076.0          63406.0    180482.0\n",
      "5            Pahang         9990.0           8046.0     18036.0\n",
      "6             Perak       227077.0         256268.0    483345.0\n",
      "7            Perlis      1083957.0         638358.0   1722315.0\n",
      "8      Pulau Pinang      1012922.0        1156062.0   2168984.0\n",
      "9             Sabah       428031.0         504660.0    932691.0\n",
      "10          Sarawak      2086092.0        1734256.0   3820348.0\n",
      "11         Selangor     10026461.0        7278212.0  17304673.0\n",
      "12       Terengganu          222.0             41.0       263.0\n",
      "13      W.P. Labuan        30681.0          16836.0     47517.0\n"
     ]
    }
   ],
   "source": [
    "grouped_df = df.groupby('soe').agg({\n",
    "    'arrivals_male': 'sum',\n",
    "    'arrivals_female': 'sum',\n",
    "    'arrivals': 'sum'\n",
    "}).reset_index()\n",
    "\n",
    "print(grouped_df)"
   ]
  },
  {
   "cell_type": "code",
   "execution_count": 10,
   "metadata": {},
   "outputs": [],
   "source": [
    "grouped_df.to_csv(\"sankey.csv\")"
   ]
  },
  {
   "cell_type": "code",
   "execution_count": 11,
   "metadata": {},
   "outputs": [],
   "source": [
    "df=pd.read_csv(\"bubbleChart_pictograph.csv\")"
   ]
  },
  {
   "cell_type": "code",
   "execution_count": 12,
   "metadata": {},
   "outputs": [],
   "source": [
    "df=df.drop_duplicates(subset='code')"
   ]
  },
  {
   "cell_type": "code",
   "execution_count": 13,
   "metadata": {},
   "outputs": [],
   "source": [
    "df = df.drop(df.columns[[0, 1]], axis=1)"
   ]
  },
  {
   "cell_type": "code",
   "execution_count": 15,
   "metadata": {},
   "outputs": [],
   "source": [
    "df.to_csv(\"bubbleChart_pictograph.csv\")"
   ]
  },
  {
   "cell_type": "code",
   "execution_count": 1,
   "metadata": {},
   "outputs": [],
   "source": [
    "import pandas as pd\n",
    "df=pd.read_csv(\"sankey.csv\")"
   ]
  },
  {
   "cell_type": "code",
   "execution_count": 8,
   "metadata": {},
   "outputs": [],
   "source": [
    "df_melted = pd.melt(df, \n",
    "                    id_vars=['Unnamed: 0', 'soe'], \n",
    "                    value_vars=['arrivals_male', 'arrivals_female'], \n",
    "                    var_name='gender')\n",
    "\n",
    "# Replace 'arrivals_male' and 'arrivals_female' with 'male' and 'female'\n",
    "df_melted['gender'] = df_melted['gender'].replace({'arrivals_male': 'male', 'arrivals_female': 'female'})\n",
    "df_melted=df_melted.drop(columns=[\"Unnamed: 0\"])"
   ]
  },
  {
   "cell_type": "code",
   "execution_count": 15,
   "metadata": {},
   "outputs": [],
   "source": [
    "import pandas as pd\n",
    "df=pd.read_csv(\"grouped_arrivals.csv\")"
   ]
  },
  {
   "cell_type": "code",
   "execution_count": 16,
   "metadata": {},
   "outputs": [
    {
     "name": "stderr",
     "output_type": "stream",
     "text": [
      "<ipython-input-16-b38de37f40e9>:1: UserWarning: Could not infer format, so each element will be parsed individually, falling back to `dateutil`. To ensure parsing is consistent and as-expected, please specify a format.\n",
      "  df[\"date\"] = pd.to_datetime(df[\"date\"])  # Convert 'date' column to datetime format\n"
     ]
    }
   ],
   "source": [
    "df[\"date\"] = pd.to_datetime(df[\"date\"])  # Convert 'date' column to datetime format\n",
    "df[\"year\"] = df[\"date\"].dt.year"
   ]
  },
  {
   "cell_type": "code",
   "execution_count": 17,
   "metadata": {},
   "outputs": [],
   "source": [
    "df = df.drop([df.columns[0], df.columns[1]], axis=1) "
   ]
  },
  {
   "cell_type": "code",
   "execution_count": 22,
   "metadata": {},
   "outputs": [],
   "source": [
    "df = df.groupby([\"year\", \"country\", \"latitude\", \"longitude\", \"region\"])[\"arrivals\"].sum().reset_index()\n"
   ]
  },
  {
   "cell_type": "code",
   "execution_count": 24,
   "metadata": {},
   "outputs": [],
   "source": [
    "df.to_csv(\"grouped_arrivals.csv\")"
   ]
  },
  {
   "cell_type": "code",
   "execution_count": null,
   "metadata": {},
   "outputs": [],
   "source": []
  }
 ],
 "metadata": {
  "kernelspec": {
   "display_name": "Python 3",
   "language": "python",
   "name": "python3"
  },
  "language_info": {
   "codemirror_mode": {
    "name": "ipython",
    "version": 3
   },
   "file_extension": ".py",
   "mimetype": "text/x-python",
   "name": "python",
   "nbconvert_exporter": "python",
   "pygments_lexer": "ipython3",
   "version": "3.8.5"
  }
 },
 "nbformat": 4,
 "nbformat_minor": 2
}
