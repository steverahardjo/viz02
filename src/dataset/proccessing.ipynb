{
 "cells": [
  {
   "cell_type": "code",
   "execution_count": 1,
   "metadata": {},
   "outputs": [],
   "source": [
    "import pandas as pd\n",
    "from vega_datasets import data\n",
    "import pycountry\n"
   ]
  },
  {
   "cell_type": "code",
   "execution_count": 6,
   "metadata": {},
   "outputs": [],
   "source": [
    "\n",
    "\n",
    "def get_country_name_from_code(code):\n",
    "    try:\n",
    "        country = pycountry.countries.get(alpha_3=code)\n",
    "        return country.name\n",
    "    except AttributeError:\n",
    "        return \"Unknown\"\n",
    "df=pd.read_csv(\"arrivals_soe.csv\")"
   ]
  },
  {
   "cell_type": "code",
   "execution_count": 139,
   "metadata": {},
   "outputs": [],
   "source": [
    "import pycountry\n",
    "\n",
    "def get_country_name_from_code2(code):\n",
    "    try:\n",
    "        # Attempt to get country using alpha_2 code\n",
    "        country = pycountry.countries.get(alpha_2=code)\n",
    "        if country:\n",
    "            return country.name\n",
    "        else:\n",
    "            return \"Unknown\"\n",
    "    except LookupError:\n",
    "        # Return \"Unknown\" for invalid codes\n",
    "        return \"Unknown\"\n",
    "    except Exception as e:\n",
    "        # Log or print the exception for debugging\n",
    "        print(f\"Error: {e}\")\n",
    "        return \"Unknown\"\n"
   ]
  },
  {
   "cell_type": "code",
   "execution_count": 140,
   "metadata": {},
   "outputs": [],
   "source": [
    "lst=[]\n",
    "df = df.rename(columns={'country': 'code'})\n",
    "for a in df[\"code\"]:\n",
    "    b=get_country_name_from_code(a)\n",
    "    lst.append(b)\n",
    "df[\"country\"]=lst"
   ]
  },
  {
   "cell_type": "code",
   "execution_count": 142,
   "metadata": {},
   "outputs": [],
   "source": [
    "df2=df2.drop(columns=\"Country\")\n",
    "df2=df2.drop(columns=\"Code\")"
   ]
  },
  {
   "cell_type": "code",
   "execution_count": 143,
   "metadata": {},
   "outputs": [],
   "source": [
    "joined=pd.merge(df, df2, on=\"country\", how=\"inner\")"
   ]
  },
  {
   "cell_type": "code",
   "execution_count": 146,
   "metadata": {},
   "outputs": [],
   "source": [
    "joined.to_csv('final file.csv', index=False)"
   ]
  },
  {
   "cell_type": "code",
   "execution_count": 3,
   "metadata": {},
   "outputs": [],
   "source": [
    "final=pd.read_csv(\"final file.csv\")"
   ]
  },
  {
   "cell_type": "code",
   "execution_count": 7,
   "metadata": {},
   "outputs": [],
   "source": [
    "final['date'] = pd.to_datetime(final['date'])\n",
    "final['date'] = final['date'].dt.strftime('%b %Y')\n"
   ]
  },
  {
   "cell_type": "code",
   "execution_count": 11,
   "metadata": {},
   "outputs": [],
   "source": [
    "# Assuming 'final' is your DataFrame\n",
    "grouped_df = final.groupby([\"date\", \"code\", \"soe\"]).sum().reset_index()\n"
   ]
  },
  {
   "cell_type": "code",
   "execution_count": 20,
   "metadata": {},
   "outputs": [],
   "source": [
    "filtered_df = grouped_df[grouped_df['arrivals'] > 0]\n"
   ]
  },
  {
   "cell_type": "code",
   "execution_count": 21,
   "metadata": {},
   "outputs": [
    {
     "name": "stdout",
     "output_type": "stream",
     "text": [
      "<class 'pandas.core.frame.DataFrame'>\n",
      "Index: 34457 entries, 35 to 87686\n",
      "Data columns (total 9 columns):\n",
      " #   Column           Non-Null Count  Dtype  \n",
      "---  ------           --------------  -----  \n",
      " 0   date             34457 non-null  object \n",
      " 1   code             34457 non-null  object \n",
      " 2   soe              34457 non-null  object \n",
      " 3   arrivals         34457 non-null  int64  \n",
      " 4   arrivals_male    34457 non-null  int64  \n",
      " 5   arrivals_female  34457 non-null  int64  \n",
      " 6   country          34457 non-null  object \n",
      " 7   latitude         34457 non-null  float64\n",
      " 8   longitude        34457 non-null  float64\n",
      "dtypes: float64(2), int64(3), object(4)\n",
      "memory usage: 2.6+ MB\n"
     ]
    }
   ],
   "source": [
    "filtered_df.info()"
   ]
  },
  {
   "cell_type": "code",
   "execution_count": 23,
   "metadata": {},
   "outputs": [],
   "source": [
    "filtered_df.to_csv(\"grouped_arrivals.csv\")"
   ]
  },
  {
   "cell_type": "code",
   "execution_count": 22,
   "metadata": {},
   "outputs": [
    {
     "name": "stdout",
     "output_type": "stream",
     "text": [
      "<class 'pandas.core.frame.DataFrame'>\n",
      "RangeIndex: 87687 entries, 0 to 87686\n",
      "Data columns (total 9 columns):\n",
      " #   Column           Non-Null Count  Dtype  \n",
      "---  ------           --------------  -----  \n",
      " 0   date             87687 non-null  object \n",
      " 1   code             87687 non-null  object \n",
      " 2   soe              87687 non-null  object \n",
      " 3   arrivals         87687 non-null  int64  \n",
      " 4   arrivals_male    87687 non-null  int64  \n",
      " 5   arrivals_female  87687 non-null  int64  \n",
      " 6   country          87687 non-null  object \n",
      " 7   latitude         87687 non-null  float64\n",
      " 8   longitude        87687 non-null  float64\n",
      "dtypes: float64(2), int64(3), object(4)\n",
      "memory usage: 6.0+ MB\n"
     ]
    }
   ],
   "source": [
    "grouped_df.info()"
   ]
  },
  {
   "cell_type": "code",
   "execution_count": 15,
   "metadata": {},
   "outputs": [],
   "source": [
    "a=pd.read_csv(\"grouped_arrivals.csv\")\n"
   ]
  },
  {
   "cell_type": "code",
   "execution_count": 18,
   "metadata": {},
   "outputs": [],
   "source": [
    "import pandas as pd\n",
    "\n",
    "# Load the Big Mac Index dataset\n",
    "url_big_mac = \"https://raw.githubusercontent.com/TheEconomist/big-mac-data/refs/heads/master/source-data/big-mac-source-data-v2.csv\"\n",
    "bigmac = pd.read_csv(url_big_mac)\n",
    "\n",
    "# Load your own dataset\n",
    "url_your_dataset = \"path_to_your_dataset.csv\"\n",
    "\n",
    "# Filter the Big Mac dataset for the year 2023\n",
    "bigmac= bigmac[bigmac['date'].str.contains('2023')]\n",
    "a=pd.read_csv(\"grouped_arrivals.csv\")\n",
    "a= a[a['date'].str.contains('2023')]\n",
    "\n",
    "# Rename the column in the Big Mac dataset\n",
    "bigmac= bigmac.rename(columns={\"iso_a3\": \"code\"})\n",
    "bigmac[\"adjust_price\"]=bigmac[\"local_price\"]/bigmac[\"dollar_ex\"]\n",
    "summed = a.groupby([\"code\"]).sum()[[\"arrivals\"]]\n",
    "\n",
    "# Merge the datasets on the 'code' column\n",
    "md = pd.merge(bigmac, summed, on=\"code\", how=\"left\")\n"
   ]
  },
  {
   "cell_type": "code",
   "execution_count": 19,
   "metadata": {},
   "outputs": [],
   "source": [
    "md=md[[\"name\", \"code\", \"adjust_price\", \"GDP_dollar\", \"arrivals\"]]\n",
    "md.to_csv(\"bubbleChart, pictograph\")"
   ]
  }
 ],
 "metadata": {
  "kernelspec": {
   "display_name": "Python 3",
   "language": "python",
   "name": "python3"
  },
  "language_info": {
   "codemirror_mode": {
    "name": "ipython",
    "version": 3
   },
   "file_extension": ".py",
   "mimetype": "text/x-python",
   "name": "python",
   "nbconvert_exporter": "python",
   "pygments_lexer": "ipython3",
   "version": "3.8.5"
  }
 },
 "nbformat": 4,
 "nbformat_minor": 2
}
