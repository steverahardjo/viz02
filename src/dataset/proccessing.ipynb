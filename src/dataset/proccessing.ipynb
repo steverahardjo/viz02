{
 "cells": [
  {
   "cell_type": "code",
   "execution_count": 1,
   "metadata": {},
   "outputs": [],
   "source": [
    "import pandas as pd\n",
    "from vega_datasets import data\n",
    "import pycountry\n"
   ]
  },
  {
   "cell_type": "code",
   "execution_count": 6,
   "metadata": {},
   "outputs": [],
   "source": [
    "\n",
    "\n",
    "def get_country_name_from_code(code):\n",
    "    try:\n",
    "        country = pycountry.countries.get(alpha_3=code)\n",
    "        return country.name\n",
    "    except AttributeError:\n",
    "        return \"Unknown\"\n",
    "df=pd.read_csv(\"arrivals_soe.csv\")"
   ]
  },
  {
   "cell_type": "code",
   "execution_count": 139,
   "metadata": {},
   "outputs": [],
   "source": [
    "import pycountry\n",
    "\n",
    "def get_country_name_from_code2(code):\n",
    "    try:\n",
    "        # Attempt to get country using alpha_2 code\n",
    "        country = pycountry.countries.get(alpha_2=code)\n",
    "        if country:\n",
    "            return country.name\n",
    "        else:\n",
    "            return \"Unknown\"\n",
    "    except LookupError:\n",
    "        # Return \"Unknown\" for invalid codes\n",
    "        return \"Unknown\"\n",
    "    except Exception as e:\n",
    "        # Log or print the exception for debugging\n",
    "        print(f\"Error: {e}\")\n",
    "        return \"Unknown\"\n"
   ]
  },
  {
   "cell_type": "code",
   "execution_count": 140,
   "metadata": {},
   "outputs": [],
   "source": [
    "lst=[]\n",
    "df = df.rename(columns={'country': 'code'})\n",
    "for a in df[\"code\"]:\n",
    "    b=get_country_name_from_code(a)\n",
    "    lst.append(b)\n",
    "df[\"country\"]=lst"
   ]
  },
  {
   "cell_type": "code",
   "execution_count": 142,
   "metadata": {},
   "outputs": [],
   "source": [
    "df2=df2.drop(columns=\"Country\")\n",
    "df2=df2.drop(columns=\"Code\")"
   ]
  },
  {
   "cell_type": "code",
   "execution_count": 143,
   "metadata": {},
   "outputs": [],
   "source": [
    "joined=pd.merge(df, df2, on=\"country\", how=\"inner\")"
   ]
  },
  {
   "cell_type": "code",
   "execution_count": 146,
   "metadata": {},
   "outputs": [],
   "source": [
    "joined.to_csv('final file.csv', index=False)"
   ]
  },
  {
   "cell_type": "code",
   "execution_count": 3,
   "metadata": {},
   "outputs": [],
   "source": [
    "final=pd.read_csv(\"final file.csv\")"
   ]
  },
  {
   "cell_type": "code",
   "execution_count": 7,
   "metadata": {},
   "outputs": [],
   "source": [
    "final['date'] = pd.to_datetime(final['date'])\n",
    "final['date'] = final['date'].dt.strftime('%b %Y')\n"
   ]
  },
  {
   "cell_type": "code",
   "execution_count": 11,
   "metadata": {},
   "outputs": [],
   "source": [
    "# Assuming 'final' is your DataFrame\n",
    "grouped_df = final.groupby([\"date\", \"code\", \"soe\"]).sum().reset_index()\n"
   ]
  },
  {
   "cell_type": "code",
   "execution_count": 20,
   "metadata": {},
   "outputs": [],
   "source": [
    "filtered_df = grouped_df[grouped_df['arrivals'] > 0]\n"
   ]
  },
  {
   "cell_type": "code",
   "execution_count": 21,
   "metadata": {},
   "outputs": [
    {
     "name": "stdout",
     "output_type": "stream",
     "text": [
      "<class 'pandas.core.frame.DataFrame'>\n",
      "Index: 34457 entries, 35 to 87686\n",
      "Data columns (total 9 columns):\n",
      " #   Column           Non-Null Count  Dtype  \n",
      "---  ------           --------------  -----  \n",
      " 0   date             34457 non-null  object \n",
      " 1   code             34457 non-null  object \n",
      " 2   soe              34457 non-null  object \n",
      " 3   arrivals         34457 non-null  int64  \n",
      " 4   arrivals_male    34457 non-null  int64  \n",
      " 5   arrivals_female  34457 non-null  int64  \n",
      " 6   country          34457 non-null  object \n",
      " 7   latitude         34457 non-null  float64\n",
      " 8   longitude        34457 non-null  float64\n",
      "dtypes: float64(2), int64(3), object(4)\n",
      "memory usage: 2.6+ MB\n"
     ]
    }
   ],
   "source": [
    "filtered_df.info()"
   ]
  },
  {
   "cell_type": "code",
   "execution_count": 23,
   "metadata": {},
   "outputs": [],
   "source": [
    "filtered_df.to_csv(\"grouped_arrivals.csv\")"
   ]
  },
  {
   "cell_type": "code",
   "execution_count": 22,
   "metadata": {},
   "outputs": [
    {
     "name": "stdout",
     "output_type": "stream",
     "text": [
      "<class 'pandas.core.frame.DataFrame'>\n",
      "RangeIndex: 87687 entries, 0 to 87686\n",
      "Data columns (total 9 columns):\n",
      " #   Column           Non-Null Count  Dtype  \n",
      "---  ------           --------------  -----  \n",
      " 0   date             87687 non-null  object \n",
      " 1   code             87687 non-null  object \n",
      " 2   soe              87687 non-null  object \n",
      " 3   arrivals         87687 non-null  int64  \n",
      " 4   arrivals_male    87687 non-null  int64  \n",
      " 5   arrivals_female  87687 non-null  int64  \n",
      " 6   country          87687 non-null  object \n",
      " 7   latitude         87687 non-null  float64\n",
      " 8   longitude        87687 non-null  float64\n",
      "dtypes: float64(2), int64(3), object(4)\n",
      "memory usage: 6.0+ MB\n"
     ]
    }
   ],
   "source": [
    "grouped_df.info()"
   ]
  },
  {
   "cell_type": "code",
   "execution_count": 75,
   "metadata": {},
   "outputs": [],
   "source": [
    "a=pd.read_csv(\"grouped_arrivals.csv\")\n"
   ]
  },
  {
   "cell_type": "code",
   "execution_count": 76,
   "metadata": {},
   "outputs": [],
   "source": [
    "import pandas as pd\n",
    "\n",
    "# Load the Big Mac Index dataset\n",
    "url_big_mac = \"https://raw.githubusercontent.com/TheEconomist/big-mac-data/refs/heads/master/source-data/big-mac-source-data-v2.csv\"\n",
    "bigmac = pd.read_csv(url_big_mac)\n",
    "\n",
    "# Load your own dataset\n",
    "url_your_dataset = \"path_to_your_dataset.csv\"\n",
    "\n",
    "# Filter the Big Mac dataset for the year 2023\n",
    "bigmac= bigmac[bigmac['date'].str.contains('2023')]\n",
    "a=pd.read_csv(\"grouped_arrivals.csv\")\n",
    "a= a[a['date'].str.contains('2023')]\n",
    "\n",
    "# Rename the column in the Big Mac dataset\n",
    "bigmac= bigmac.rename(columns={\"iso_a3\": \"code\"})\n",
    "bigmac[\"adjust_price\"]=bigmac[\"local_price\"]/bigmac[\"dollar_ex\"]\n",
    "summed = a.groupby([\"code\"]).sum()[[\"arrivals\"]]\n",
    "\n",
    "# Merge the datasets on the 'code' column\n",
    "md = pd.merge(bigmac, summed, on=\"code\", how=\"left\")\n"
   ]
  },
  {
   "cell_type": "code",
   "execution_count": 78,
   "metadata": {},
   "outputs": [],
   "source": [
    "import pandas as pd\n",
    "gdp=pd.read_csv(\"gdp_capita.csv\")\n"
   ]
  },
  {
   "cell_type": "code",
   "execution_count": 79,
   "metadata": {},
   "outputs": [],
   "source": [
    "# Set row 3 (index 2) as the new header\n",
    "gdp.columns = gdp.iloc[3]\n",
    "\n",
    "# Drop the first 3 rows to clean up the DataFrame (including the row used as the new header)\n",
    "gdp = gdp.drop([0, 1, 2, 3]).reset_index(drop=True)"
   ]
  },
  {
   "cell_type": "code",
   "execution_count": 80,
   "metadata": {},
   "outputs": [],
   "source": [
    "gdp=gdp[[\"Country Code\", 2023.0]]"
   ]
  },
  {
   "cell_type": "code",
   "execution_count": 81,
   "metadata": {},
   "outputs": [],
   "source": [
    "gdp=gdp.rename(columns={\"Country Code\": \"code\", 2023.0: \"gdp_capita\"})"
   ]
  },
  {
   "cell_type": "code",
   "execution_count": 83,
   "metadata": {},
   "outputs": [],
   "source": [
    "\n",
    "md = pd.merge(md, gdp, on=\"code\", how=\"left\")"
   ]
  },
  {
   "cell_type": "code",
   "execution_count": 84,
   "metadata": {},
   "outputs": [],
   "source": [
    "md[\"gdp_capita\"]=round(md[\"gdp_capita\"])"
   ]
  },
  {
   "cell_type": "code",
   "execution_count": 85,
   "metadata": {},
   "outputs": [
    {
     "data": {
      "text/html": [
       "<div>\n",
       "<style scoped>\n",
       "    .dataframe tbody tr th:only-of-type {\n",
       "        vertical-align: middle;\n",
       "    }\n",
       "\n",
       "    .dataframe tbody tr th {\n",
       "        vertical-align: top;\n",
       "    }\n",
       "\n",
       "    .dataframe thead th {\n",
       "        text-align: right;\n",
       "    }\n",
       "</style>\n",
       "<table border=\"1\" class=\"dataframe\">\n",
       "  <thead>\n",
       "    <tr style=\"text-align: right;\">\n",
       "      <th></th>\n",
       "      <th>name</th>\n",
       "      <th>code</th>\n",
       "      <th>currency_code</th>\n",
       "      <th>local_price</th>\n",
       "      <th>dollar_ex</th>\n",
       "      <th>GDP_dollar</th>\n",
       "      <th>GDP_local</th>\n",
       "      <th>date</th>\n",
       "      <th>adjust_price</th>\n",
       "      <th>arrivals</th>\n",
       "      <th>gdp_capita</th>\n",
       "    </tr>\n",
       "  </thead>\n",
       "  <tbody>\n",
       "    <tr>\n",
       "      <th>0</th>\n",
       "      <td>United Arab Emirates</td>\n",
       "      <td>ARE</td>\n",
       "      <td>AED</td>\n",
       "      <td>18.00</td>\n",
       "      <td>3.67300</td>\n",
       "      <td>52625.126</td>\n",
       "      <td>193265.777</td>\n",
       "      <td>2023-01-01</td>\n",
       "      <td>4.900626</td>\n",
       "      <td>8475.0</td>\n",
       "      <td>52977.0</td>\n",
       "    </tr>\n",
       "    <tr>\n",
       "      <th>1</th>\n",
       "      <td>Argentina</td>\n",
       "      <td>ARG</td>\n",
       "      <td>ARS</td>\n",
       "      <td>980.00</td>\n",
       "      <td>184.69875</td>\n",
       "      <td>13640.410</td>\n",
       "      <td>1782994.200</td>\n",
       "      <td>2023-01-01</td>\n",
       "      <td>5.305937</td>\n",
       "      <td>6162.0</td>\n",
       "      <td>13731.0</td>\n",
       "    </tr>\n",
       "    <tr>\n",
       "      <th>2</th>\n",
       "      <td>Australia</td>\n",
       "      <td>AUS</td>\n",
       "      <td>AUD</td>\n",
       "      <td>7.25</td>\n",
       "      <td>1.41854</td>\n",
       "      <td>65574.862</td>\n",
       "      <td>94358.390</td>\n",
       "      <td>2023-01-01</td>\n",
       "      <td>5.110888</td>\n",
       "      <td>409096.0</td>\n",
       "      <td>64712.0</td>\n",
       "    </tr>\n",
       "    <tr>\n",
       "      <th>3</th>\n",
       "      <td>Austria</td>\n",
       "      <td>AUT</td>\n",
       "      <td>EUR</td>\n",
       "      <td>4.48</td>\n",
       "      <td>0.91950</td>\n",
       "      <td>52483.930</td>\n",
       "      <td>49800.808</td>\n",
       "      <td>2023-01-01</td>\n",
       "      <td>4.872213</td>\n",
       "      <td>14358.0</td>\n",
       "      <td>56506.0</td>\n",
       "    </tr>\n",
       "    <tr>\n",
       "      <th>4</th>\n",
       "      <td>Azerbaijan</td>\n",
       "      <td>AZE</td>\n",
       "      <td>AZN</td>\n",
       "      <td>4.90</td>\n",
       "      <td>1.70250</td>\n",
       "      <td>7822.589</td>\n",
       "      <td>13298.401</td>\n",
       "      <td>2023-01-01</td>\n",
       "      <td>2.878120</td>\n",
       "      <td>1712.0</td>\n",
       "      <td>7155.0</td>\n",
       "    </tr>\n",
       "  </tbody>\n",
       "</table>\n",
       "</div>"
      ],
      "text/plain": [
       "                   name code currency_code  local_price  dollar_ex  \\\n",
       "0  United Arab Emirates  ARE           AED        18.00    3.67300   \n",
       "1             Argentina  ARG           ARS       980.00  184.69875   \n",
       "2             Australia  AUS           AUD         7.25    1.41854   \n",
       "3               Austria  AUT           EUR         4.48    0.91950   \n",
       "4            Azerbaijan  AZE           AZN         4.90    1.70250   \n",
       "\n",
       "   GDP_dollar    GDP_local        date  adjust_price  arrivals  gdp_capita  \n",
       "0   52625.126   193265.777  2023-01-01      4.900626    8475.0     52977.0  \n",
       "1   13640.410  1782994.200  2023-01-01      5.305937    6162.0     13731.0  \n",
       "2   65574.862    94358.390  2023-01-01      5.110888  409096.0     64712.0  \n",
       "3   52483.930    49800.808  2023-01-01      4.872213   14358.0     56506.0  \n",
       "4    7822.589    13298.401  2023-01-01      2.878120    1712.0      7155.0  "
      ]
     },
     "execution_count": 85,
     "metadata": {},
     "output_type": "execute_result"
    }
   ],
   "source": [
    "md.head()"
   ]
  },
  {
   "cell_type": "code",
   "execution_count": 2,
   "metadata": {},
   "outputs": [],
   "source": [
    "import pandas as pd"
   ]
  },
  {
   "cell_type": "code",
   "execution_count": 86,
   "metadata": {},
   "outputs": [],
   "source": [
    "dist=pd.read_csv(\"https://raw.githubusercontent.com/rahulbot/distances-between-countries/refs/heads/master/distances.csv\")"
   ]
  },
  {
   "cell_type": "code",
   "execution_count": 87,
   "metadata": {},
   "outputs": [],
   "source": [
    "dist = dist.rename(columns={dist.columns[0]: 'code'})\n",
    "dist=dist[[\"code\", \"MYS\"]]\n",
    "dist=dist.rename(columns={\"MYS\": \"distance\"})"
   ]
  },
  {
   "cell_type": "code",
   "execution_count": 88,
   "metadata": {},
   "outputs": [
    {
     "data": {
      "text/html": [
       "<div>\n",
       "<style scoped>\n",
       "    .dataframe tbody tr th:only-of-type {\n",
       "        vertical-align: middle;\n",
       "    }\n",
       "\n",
       "    .dataframe tbody tr th {\n",
       "        vertical-align: top;\n",
       "    }\n",
       "\n",
       "    .dataframe thead th {\n",
       "        text-align: right;\n",
       "    }\n",
       "</style>\n",
       "<table border=\"1\" class=\"dataframe\">\n",
       "  <thead>\n",
       "    <tr style=\"text-align: right;\">\n",
       "      <th></th>\n",
       "      <th>code</th>\n",
       "      <th>distance</th>\n",
       "    </tr>\n",
       "  </thead>\n",
       "  <tbody>\n",
       "    <tr>\n",
       "      <th>0</th>\n",
       "      <td>ABW</td>\n",
       "      <td>17772.198137</td>\n",
       "    </tr>\n",
       "    <tr>\n",
       "      <th>1</th>\n",
       "      <td>AFG</td>\n",
       "      <td>4627.929927</td>\n",
       "    </tr>\n",
       "    <tr>\n",
       "      <th>2</th>\n",
       "      <td>AGO</td>\n",
       "      <td>10012.910963</td>\n",
       "    </tr>\n",
       "    <tr>\n",
       "      <th>3</th>\n",
       "      <td>AIA</td>\n",
       "      <td>16872.110747</td>\n",
       "    </tr>\n",
       "    <tr>\n",
       "      <th>4</th>\n",
       "      <td>ALB</td>\n",
       "      <td>8930.954065</td>\n",
       "    </tr>\n",
       "    <tr>\n",
       "      <th>...</th>\n",
       "      <td>...</td>\n",
       "      <td>...</td>\n",
       "    </tr>\n",
       "    <tr>\n",
       "      <th>230</th>\n",
       "      <td>WSM</td>\n",
       "      <td>9748.630964</td>\n",
       "    </tr>\n",
       "    <tr>\n",
       "      <th>231</th>\n",
       "      <td>YEM</td>\n",
       "      <td>6411.044984</td>\n",
       "    </tr>\n",
       "    <tr>\n",
       "      <th>232</th>\n",
       "      <td>ZAF</td>\n",
       "      <td>9822.689546</td>\n",
       "    </tr>\n",
       "    <tr>\n",
       "      <th>233</th>\n",
       "      <td>ZMB</td>\n",
       "      <td>8491.259645</td>\n",
       "    </tr>\n",
       "    <tr>\n",
       "      <th>234</th>\n",
       "      <td>ZWE</td>\n",
       "      <td>8253.128523</td>\n",
       "    </tr>\n",
       "  </tbody>\n",
       "</table>\n",
       "<p>235 rows × 2 columns</p>\n",
       "</div>"
      ],
      "text/plain": [
       "    code      distance\n",
       "0    ABW  17772.198137\n",
       "1    AFG   4627.929927\n",
       "2    AGO  10012.910963\n",
       "3    AIA  16872.110747\n",
       "4    ALB   8930.954065\n",
       "..   ...           ...\n",
       "230  WSM   9748.630964\n",
       "231  YEM   6411.044984\n",
       "232  ZAF   9822.689546\n",
       "233  ZMB   8491.259645\n",
       "234  ZWE   8253.128523\n",
       "\n",
       "[235 rows x 2 columns]"
      ]
     },
     "execution_count": 88,
     "metadata": {},
     "output_type": "execute_result"
    }
   ],
   "source": [
    "dist"
   ]
  },
  {
   "cell_type": "code",
   "execution_count": 89,
   "metadata": {},
   "outputs": [],
   "source": [
    "md = pd.merge(md, dist, on=\"code\", how=\"left\")"
   ]
  },
  {
   "cell_type": "code",
   "execution_count": 90,
   "metadata": {},
   "outputs": [],
   "source": [
    "md[\"distance\"]=round(md[\"distance\"])"
   ]
  },
  {
   "cell_type": "code",
   "execution_count": 91,
   "metadata": {},
   "outputs": [],
   "source": [
    "md.to_csv(\"bubbleChart_pictograph.csv\")"
   ]
  },
  {
   "cell_type": "code",
   "execution_count": 92,
   "metadata": {},
   "outputs": [],
   "source": [
    "md=pd.read_csv(\"grouped_arrivals.csv\")"
   ]
  },
  {
   "cell_type": "code",
   "execution_count": 93,
   "metadata": {},
   "outputs": [],
   "source": [
    "subreg=pd.read_csv(\"subregion.csv\")"
   ]
  },
  {
   "cell_type": "code",
   "execution_count": 94,
   "metadata": {},
   "outputs": [],
   "source": [
    "subreg=subreg[[\"alpha-3\", \"sub-region\"]]"
   ]
  },
  {
   "cell_type": "code",
   "execution_count": 95,
   "metadata": {},
   "outputs": [],
   "source": [
    "subreg = subreg.rename(columns={\"alpha-3\": \"code\"})"
   ]
  },
  {
   "cell_type": "code",
   "execution_count": 96,
   "metadata": {},
   "outputs": [],
   "source": [
    "md = pd.merge(md, subreg, on=\"code\", how=\"left\")"
   ]
  },
  {
   "cell_type": "code",
   "execution_count": 97,
   "metadata": {},
   "outputs": [],
   "source": [
    "md = md.drop(columns=[\"Unnamed: 0\"])\n"
   ]
  },
  {
   "cell_type": "code",
   "execution_count": 102,
   "metadata": {},
   "outputs": [],
   "source": [
    "# Group by 'date' and 'sub-region', summing the 'arrivals' column\n",
    "md = md.groupby([\"date\", \"sub-region\"])[\"arrivals\"].sum().reset_index()"
   ]
  },
  {
   "cell_type": "code",
   "execution_count": 105,
   "metadata": {},
   "outputs": [],
   "source": [
    "md.to_csv(\"streamgraph.csv\")"
   ]
  },
  {
   "cell_type": "code",
   "execution_count": 104,
   "metadata": {},
   "outputs": [
    {
     "data": {
      "text/html": [
       "<div>\n",
       "<style scoped>\n",
       "    .dataframe tbody tr th:only-of-type {\n",
       "        vertical-align: middle;\n",
       "    }\n",
       "\n",
       "    .dataframe tbody tr th {\n",
       "        vertical-align: top;\n",
       "    }\n",
       "\n",
       "    .dataframe thead th {\n",
       "        text-align: right;\n",
       "    }\n",
       "</style>\n",
       "<table border=\"1\" class=\"dataframe\">\n",
       "  <thead>\n",
       "    <tr style=\"text-align: right;\">\n",
       "      <th></th>\n",
       "      <th>date</th>\n",
       "      <th>sub-region</th>\n",
       "      <th>arrivals</th>\n",
       "    </tr>\n",
       "  </thead>\n",
       "  <tbody>\n",
       "    <tr>\n",
       "      <th>0</th>\n",
       "      <td>Apr 2020</td>\n",
       "      <td>Australia and New Zealand</td>\n",
       "      <td>11.0</td>\n",
       "    </tr>\n",
       "    <tr>\n",
       "      <th>1</th>\n",
       "      <td>Apr 2020</td>\n",
       "      <td>Eastern Asia</td>\n",
       "      <td>72.0</td>\n",
       "    </tr>\n",
       "    <tr>\n",
       "      <th>2</th>\n",
       "      <td>Apr 2020</td>\n",
       "      <td>Eastern Europe</td>\n",
       "      <td>7.0</td>\n",
       "    </tr>\n",
       "    <tr>\n",
       "      <th>3</th>\n",
       "      <td>Apr 2020</td>\n",
       "      <td>Northern Africa</td>\n",
       "      <td>9.0</td>\n",
       "    </tr>\n",
       "    <tr>\n",
       "      <th>4</th>\n",
       "      <td>Apr 2020</td>\n",
       "      <td>Northern America</td>\n",
       "      <td>18.0</td>\n",
       "    </tr>\n",
       "    <tr>\n",
       "      <th>...</th>\n",
       "      <td>...</td>\n",
       "      <td>...</td>\n",
       "      <td>...</td>\n",
       "    </tr>\n",
       "    <tr>\n",
       "      <th>867</th>\n",
       "      <td>Sep 2023</td>\n",
       "      <td>Southern Europe</td>\n",
       "      <td>11624.0</td>\n",
       "    </tr>\n",
       "    <tr>\n",
       "      <th>868</th>\n",
       "      <td>Sep 2023</td>\n",
       "      <td>Sub-Saharan Africa</td>\n",
       "      <td>7129.0</td>\n",
       "    </tr>\n",
       "    <tr>\n",
       "      <th>869</th>\n",
       "      <td>Sep 2023</td>\n",
       "      <td>Western Asia</td>\n",
       "      <td>15516.0</td>\n",
       "    </tr>\n",
       "    <tr>\n",
       "      <th>870</th>\n",
       "      <td>Sep 2023</td>\n",
       "      <td>Western Europe</td>\n",
       "      <td>33727.0</td>\n",
       "    </tr>\n",
       "    <tr>\n",
       "      <th>871</th>\n",
       "      <td>pivot</td>\n",
       "      <td>South-eastern Asia</td>\n",
       "      <td>0.0</td>\n",
       "    </tr>\n",
       "  </tbody>\n",
       "</table>\n",
       "<p>872 rows × 3 columns</p>\n",
       "</div>"
      ],
      "text/plain": [
       "         date                 sub-region  arrivals\n",
       "0    Apr 2020  Australia and New Zealand      11.0\n",
       "1    Apr 2020               Eastern Asia      72.0\n",
       "2    Apr 2020             Eastern Europe       7.0\n",
       "3    Apr 2020            Northern Africa       9.0\n",
       "4    Apr 2020           Northern America      18.0\n",
       "..        ...                        ...       ...\n",
       "867  Sep 2023            Southern Europe   11624.0\n",
       "868  Sep 2023         Sub-Saharan Africa    7129.0\n",
       "869  Sep 2023               Western Asia   15516.0\n",
       "870  Sep 2023             Western Europe   33727.0\n",
       "871     pivot         South-eastern Asia       0.0\n",
       "\n",
       "[872 rows x 3 columns]"
      ]
     },
     "execution_count": 104,
     "metadata": {},
     "output_type": "execute_result"
    }
   ],
   "source": [
    "md"
   ]
  }
 ],
 "metadata": {
  "kernelspec": {
   "display_name": "Python 3",
   "language": "python",
   "name": "python3"
  },
  "language_info": {
   "codemirror_mode": {
    "name": "ipython",
    "version": 3
   },
   "file_extension": ".py",
   "mimetype": "text/x-python",
   "name": "python",
   "nbconvert_exporter": "python",
   "pygments_lexer": "ipython3",
   "version": "3.8.5"
  }
 },
 "nbformat": 4,
 "nbformat_minor": 2
}
